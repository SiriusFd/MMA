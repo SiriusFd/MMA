{
 "cells": [
  {
   "cell_type": "code",
   "execution_count": 47,
   "metadata": {},
   "outputs": [],
   "source": [
    "import pandas as pd\n",
    "import numpy as np\n",
    "from nltk.corpus import stopwords\n",
    "from sklearn.model_selection import train_test_split\n",
    "from sklearn.pipeline import make_pipeline\n",
    "from sklearn.naive_bayes import MultinomialNB\n",
    "from sklearn.metrics import accuracy_score, confusion_matrix\n",
    "from sklearn.ensemble import RandomForestClassifier\n",
    "from sklearn.model_selection import cross_val_score\n",
    "from sklearn.compose import ColumnTransformer\n",
    "from sklearn.preprocessing import OneHotEncoder, FunctionTransformer\n",
    "from sklearn.feature_extraction.text import TfidfVectorizer,CountVectorizer\n",
    "from sklearn.ensemble import RandomForestClassifier\n",
    "import textstat\n",
    "from scipy.stats import randint as sp_randint\n",
    "from sklearn.pipeline import Pipeline, FeatureUnion\n",
    "from sklearn.decomposition import TruncatedSVD\n",
    "from sklearn.base import TransformerMixin\n"
   ]
  },
  {
   "cell_type": "code",
   "execution_count": 5,
   "metadata": {},
   "outputs": [
    {
     "name": "stdout",
     "output_type": "stream",
     "text": [
      "<class 'pandas.core.frame.DataFrame'>\n",
      "RangeIndex: 244768 entries, 0 to 244767\n",
      "Data columns (total 12 columns):\n",
      " #   Column              Non-Null Count   Dtype \n",
      "---  ------              --------------   ----- \n",
      " 0   Id                  244768 non-null  int64 \n",
      " 1   Title               244767 non-null  object\n",
      " 2   FullDescription     244768 non-null  object\n",
      " 3   LocationRaw         244768 non-null  object\n",
      " 4   LocationNormalized  244768 non-null  object\n",
      " 5   ContractType        65442 non-null   object\n",
      " 6   ContractTime        180863 non-null  object\n",
      " 7   Company             212338 non-null  object\n",
      " 8   Category            244768 non-null  object\n",
      " 9   SalaryRaw           244768 non-null  object\n",
      " 10  SalaryNormalized    244768 non-null  int64 \n",
      " 11  SourceName          244767 non-null  object\n",
      "dtypes: int64(2), object(10)\n",
      "memory usage: 22.4+ MB\n"
     ]
    }
   ],
   "source": [
    "df = pd.read_csv('Train_rev1.csv')\n",
    "\n",
    "df.info()"
   ]
  },
  {
   "cell_type": "code",
   "execution_count": 6,
   "metadata": {},
   "outputs": [],
   "source": [
    "df_sample = df.sample(2500, random_state=42)"
   ]
  },
  {
   "cell_type": "code",
   "execution_count": 8,
   "metadata": {},
   "outputs": [],
   "source": [
    "vectorizer = TfidfVectorizer(stop_words=stopwords.words('english'), max_features=5000)\n",
    "\n",
    "salary_threshold = np.percentile(df_sample['SalaryNormalized'], 75)\n",
    "\n",
    "df_sample['SalaryLabel'] = (df_sample['SalaryNormalized'] >= salary_threshold).astype(int)"
   ]
  },
  {
   "cell_type": "code",
   "execution_count": 11,
   "metadata": {},
   "outputs": [],
   "source": [
    "X = df_sample['FullDescription']\n",
    "y = df_sample['SalaryLabel']\n",
    "\n",
    "X_train, X_test, y_train, y_test = train_test_split(X, y, test_size=0.2, random_state=42, stratify=y)"
   ]
  },
  {
   "cell_type": "markdown",
   "metadata": {},
   "source": [
    "### basemodel"
   ]
  },
  {
   "cell_type": "code",
   "execution_count": 13,
   "metadata": {},
   "outputs": [
    {
     "name": "stdout",
     "output_type": "stream",
     "text": [
      "Accuracy: 0.758\n",
      "Confusion Matrix:\n",
      " [[365   6]\n",
      " [115  14]]\n"
     ]
    }
   ],
   "source": [
    "model = make_pipeline(TfidfVectorizer(stop_words=stopwords.words('english'), max_features=5000), MultinomialNB())\n",
    "\n",
    "model.fit(X_train, y_train)\n",
    "\n",
    "y_pred = model.predict(X_test)\n",
    "\n",
    "accuracy = accuracy_score(y_test, y_pred)\n",
    "print(f'Accuracy: {accuracy}')\n",
    "\n",
    "conf_matrix = confusion_matrix(y_test, y_pred)\n",
    "print('Confusion Matrix:\\n', conf_matrix)"
   ]
  },
  {
   "cell_type": "markdown",
   "metadata": {},
   "source": [
    "# model Refine"
   ]
  },
  {
   "cell_type": "code",
   "execution_count": 14,
   "metadata": {},
   "outputs": [],
   "source": [
    "from sklearn.feature_extraction.text import TfidfVectorizer\n",
    "from sklearn.naive_bayes import MultinomialNB\n",
    "from sklearn.pipeline import Pipeline\n",
    "from sklearn.model_selection import RandomizedSearchCV\n",
    "from scipy.stats import uniform"
   ]
  },
  {
   "cell_type": "markdown",
   "metadata": {},
   "source": [
    "### apply random search"
   ]
  },
  {
   "cell_type": "code",
   "execution_count": 35,
   "metadata": {},
   "outputs": [
    {
     "data": {
      "text/html": [
       "<style>#sk-container-id-3 {color: black;}#sk-container-id-3 pre{padding: 0;}#sk-container-id-3 div.sk-toggleable {background-color: white;}#sk-container-id-3 label.sk-toggleable__label {cursor: pointer;display: block;width: 100%;margin-bottom: 0;padding: 0.3em;box-sizing: border-box;text-align: center;}#sk-container-id-3 label.sk-toggleable__label-arrow:before {content: \"▸\";float: left;margin-right: 0.25em;color: #696969;}#sk-container-id-3 label.sk-toggleable__label-arrow:hover:before {color: black;}#sk-container-id-3 div.sk-estimator:hover label.sk-toggleable__label-arrow:before {color: black;}#sk-container-id-3 div.sk-toggleable__content {max-height: 0;max-width: 0;overflow: hidden;text-align: left;background-color: #f0f8ff;}#sk-container-id-3 div.sk-toggleable__content pre {margin: 0.2em;color: black;border-radius: 0.25em;background-color: #f0f8ff;}#sk-container-id-3 input.sk-toggleable__control:checked~div.sk-toggleable__content {max-height: 200px;max-width: 100%;overflow: auto;}#sk-container-id-3 input.sk-toggleable__control:checked~label.sk-toggleable__label-arrow:before {content: \"▾\";}#sk-container-id-3 div.sk-estimator input.sk-toggleable__control:checked~label.sk-toggleable__label {background-color: #d4ebff;}#sk-container-id-3 div.sk-label input.sk-toggleable__control:checked~label.sk-toggleable__label {background-color: #d4ebff;}#sk-container-id-3 input.sk-hidden--visually {border: 0;clip: rect(1px 1px 1px 1px);clip: rect(1px, 1px, 1px, 1px);height: 1px;margin: -1px;overflow: hidden;padding: 0;position: absolute;width: 1px;}#sk-container-id-3 div.sk-estimator {font-family: monospace;background-color: #f0f8ff;border: 1px dotted black;border-radius: 0.25em;box-sizing: border-box;margin-bottom: 0.5em;}#sk-container-id-3 div.sk-estimator:hover {background-color: #d4ebff;}#sk-container-id-3 div.sk-parallel-item::after {content: \"\";width: 100%;border-bottom: 1px solid gray;flex-grow: 1;}#sk-container-id-3 div.sk-label:hover label.sk-toggleable__label {background-color: #d4ebff;}#sk-container-id-3 div.sk-serial::before {content: \"\";position: absolute;border-left: 1px solid gray;box-sizing: border-box;top: 0;bottom: 0;left: 50%;z-index: 0;}#sk-container-id-3 div.sk-serial {display: flex;flex-direction: column;align-items: center;background-color: white;padding-right: 0.2em;padding-left: 0.2em;position: relative;}#sk-container-id-3 div.sk-item {position: relative;z-index: 1;}#sk-container-id-3 div.sk-parallel {display: flex;align-items: stretch;justify-content: center;background-color: white;position: relative;}#sk-container-id-3 div.sk-item::before, #sk-container-id-3 div.sk-parallel-item::before {content: \"\";position: absolute;border-left: 1px solid gray;box-sizing: border-box;top: 0;bottom: 0;left: 50%;z-index: -1;}#sk-container-id-3 div.sk-parallel-item {display: flex;flex-direction: column;z-index: 1;position: relative;background-color: white;}#sk-container-id-3 div.sk-parallel-item:first-child::after {align-self: flex-end;width: 50%;}#sk-container-id-3 div.sk-parallel-item:last-child::after {align-self: flex-start;width: 50%;}#sk-container-id-3 div.sk-parallel-item:only-child::after {width: 0;}#sk-container-id-3 div.sk-dashed-wrapped {border: 1px dashed gray;margin: 0 0.4em 0.5em 0.4em;box-sizing: border-box;padding-bottom: 0.4em;background-color: white;}#sk-container-id-3 div.sk-label label {font-family: monospace;font-weight: bold;display: inline-block;line-height: 1.2em;}#sk-container-id-3 div.sk-label-container {text-align: center;}#sk-container-id-3 div.sk-container {/* jupyter's `normalize.less` sets `[hidden] { display: none; }` but bootstrap.min.css set `[hidden] { display: none !important; }` so we also need the `!important` here to be able to override the default hidden behavior on the sphinx rendered scikit-learn.org. See: https://github.com/scikit-learn/scikit-learn/issues/21755 */display: inline-block !important;position: relative;}#sk-container-id-3 div.sk-text-repr-fallback {display: none;}</style><div id=\"sk-container-id-3\" class=\"sk-top-container\"><div class=\"sk-text-repr-fallback\"><pre>RandomizedSearchCV(cv=5,\n",
       "                   estimator=Pipeline(steps=[(&#x27;tfidf&#x27;,\n",
       "                                              TfidfVectorizer(stop_words=[&#x27;i&#x27;,\n",
       "                                                                          &#x27;me&#x27;,\n",
       "                                                                          &#x27;my&#x27;,\n",
       "                                                                          &#x27;myself&#x27;,\n",
       "                                                                          &#x27;we&#x27;,\n",
       "                                                                          &#x27;our&#x27;,\n",
       "                                                                          &#x27;ours&#x27;,\n",
       "                                                                          &#x27;ourselves&#x27;,\n",
       "                                                                          &#x27;you&#x27;,\n",
       "                                                                          &quot;you&#x27;re&quot;,\n",
       "                                                                          &quot;you&#x27;ve&quot;,\n",
       "                                                                          &quot;you&#x27;ll&quot;,\n",
       "                                                                          &quot;you&#x27;d&quot;,\n",
       "                                                                          &#x27;your&#x27;,\n",
       "                                                                          &#x27;yours&#x27;,\n",
       "                                                                          &#x27;yourself&#x27;,\n",
       "                                                                          &#x27;yourselves&#x27;,\n",
       "                                                                          &#x27;he&#x27;,\n",
       "                                                                          &#x27;him&#x27;,\n",
       "                                                                          &#x27;his&#x27;,\n",
       "                                                                          &#x27;himself&#x27;,\n",
       "                                                                          &#x27;she&#x27;,\n",
       "                                                                          &quot;she&#x27;s&quot;,\n",
       "                                                                          &#x27;her&#x27;,\n",
       "                                                                          &#x27;hers&#x27;,\n",
       "                                                                          &#x27;herself&#x27;,\n",
       "                                                                          &#x27;it&#x27;,\n",
       "                                                                          &quot;it&#x27;s&quot;,\n",
       "                                                                          &#x27;its&#x27;,\n",
       "                                                                          &#x27;itself&#x27;, ...])),\n",
       "                                             (&#x27;clf&#x27;, MultinomialNB())]),\n",
       "                   n_iter=50, n_jobs=-1,\n",
       "                   param_distributions={&#x27;clf__alpha&#x27;: &lt;scipy.stats._distn_infrastructure.rv_continuous_frozen object at 0x000002969E0EDBD0&gt;,\n",
       "                                        &#x27;tfidf__max_df&#x27;: &lt;scipy.stats._distn_infrastructure.rv_continuous_frozen object at 0x00000296A084BE10&gt;,\n",
       "                                        &#x27;tfidf__min_df&#x27;: [1, 2, 3, 4, 5],\n",
       "                                        &#x27;tfidf__ngram_range&#x27;: [(1, 1), (1, 2),\n",
       "                                                               (2, 2)]},\n",
       "                   random_state=42)</pre><b>In a Jupyter environment, please rerun this cell to show the HTML representation or trust the notebook. <br />On GitHub, the HTML representation is unable to render, please try loading this page with nbviewer.org.</b></div><div class=\"sk-container\" hidden><div class=\"sk-item sk-dashed-wrapped\"><div class=\"sk-label-container\"><div class=\"sk-label sk-toggleable\"><input class=\"sk-toggleable__control sk-hidden--visually\" id=\"sk-estimator-id-8\" type=\"checkbox\" ><label for=\"sk-estimator-id-8\" class=\"sk-toggleable__label sk-toggleable__label-arrow\">RandomizedSearchCV</label><div class=\"sk-toggleable__content\"><pre>RandomizedSearchCV(cv=5,\n",
       "                   estimator=Pipeline(steps=[(&#x27;tfidf&#x27;,\n",
       "                                              TfidfVectorizer(stop_words=[&#x27;i&#x27;,\n",
       "                                                                          &#x27;me&#x27;,\n",
       "                                                                          &#x27;my&#x27;,\n",
       "                                                                          &#x27;myself&#x27;,\n",
       "                                                                          &#x27;we&#x27;,\n",
       "                                                                          &#x27;our&#x27;,\n",
       "                                                                          &#x27;ours&#x27;,\n",
       "                                                                          &#x27;ourselves&#x27;,\n",
       "                                                                          &#x27;you&#x27;,\n",
       "                                                                          &quot;you&#x27;re&quot;,\n",
       "                                                                          &quot;you&#x27;ve&quot;,\n",
       "                                                                          &quot;you&#x27;ll&quot;,\n",
       "                                                                          &quot;you&#x27;d&quot;,\n",
       "                                                                          &#x27;your&#x27;,\n",
       "                                                                          &#x27;yours&#x27;,\n",
       "                                                                          &#x27;yourself&#x27;,\n",
       "                                                                          &#x27;yourselves&#x27;,\n",
       "                                                                          &#x27;he&#x27;,\n",
       "                                                                          &#x27;him&#x27;,\n",
       "                                                                          &#x27;his&#x27;,\n",
       "                                                                          &#x27;himself&#x27;,\n",
       "                                                                          &#x27;she&#x27;,\n",
       "                                                                          &quot;she&#x27;s&quot;,\n",
       "                                                                          &#x27;her&#x27;,\n",
       "                                                                          &#x27;hers&#x27;,\n",
       "                                                                          &#x27;herself&#x27;,\n",
       "                                                                          &#x27;it&#x27;,\n",
       "                                                                          &quot;it&#x27;s&quot;,\n",
       "                                                                          &#x27;its&#x27;,\n",
       "                                                                          &#x27;itself&#x27;, ...])),\n",
       "                                             (&#x27;clf&#x27;, MultinomialNB())]),\n",
       "                   n_iter=50, n_jobs=-1,\n",
       "                   param_distributions={&#x27;clf__alpha&#x27;: &lt;scipy.stats._distn_infrastructure.rv_continuous_frozen object at 0x000002969E0EDBD0&gt;,\n",
       "                                        &#x27;tfidf__max_df&#x27;: &lt;scipy.stats._distn_infrastructure.rv_continuous_frozen object at 0x00000296A084BE10&gt;,\n",
       "                                        &#x27;tfidf__min_df&#x27;: [1, 2, 3, 4, 5],\n",
       "                                        &#x27;tfidf__ngram_range&#x27;: [(1, 1), (1, 2),\n",
       "                                                               (2, 2)]},\n",
       "                   random_state=42)</pre></div></div></div><div class=\"sk-parallel\"><div class=\"sk-parallel-item\"><div class=\"sk-item\"><div class=\"sk-label-container\"><div class=\"sk-label sk-toggleable\"><input class=\"sk-toggleable__control sk-hidden--visually\" id=\"sk-estimator-id-9\" type=\"checkbox\" ><label for=\"sk-estimator-id-9\" class=\"sk-toggleable__label sk-toggleable__label-arrow\">estimator: Pipeline</label><div class=\"sk-toggleable__content\"><pre>Pipeline(steps=[(&#x27;tfidf&#x27;,\n",
       "                 TfidfVectorizer(stop_words=[&#x27;i&#x27;, &#x27;me&#x27;, &#x27;my&#x27;, &#x27;myself&#x27;, &#x27;we&#x27;,\n",
       "                                             &#x27;our&#x27;, &#x27;ours&#x27;, &#x27;ourselves&#x27;, &#x27;you&#x27;,\n",
       "                                             &quot;you&#x27;re&quot;, &quot;you&#x27;ve&quot;, &quot;you&#x27;ll&quot;,\n",
       "                                             &quot;you&#x27;d&quot;, &#x27;your&#x27;, &#x27;yours&#x27;,\n",
       "                                             &#x27;yourself&#x27;, &#x27;yourselves&#x27;, &#x27;he&#x27;,\n",
       "                                             &#x27;him&#x27;, &#x27;his&#x27;, &#x27;himself&#x27;, &#x27;she&#x27;,\n",
       "                                             &quot;she&#x27;s&quot;, &#x27;her&#x27;, &#x27;hers&#x27;, &#x27;herself&#x27;,\n",
       "                                             &#x27;it&#x27;, &quot;it&#x27;s&quot;, &#x27;its&#x27;, &#x27;itself&#x27;, ...])),\n",
       "                (&#x27;clf&#x27;, MultinomialNB())])</pre></div></div></div><div class=\"sk-serial\"><div class=\"sk-item\"><div class=\"sk-serial\"><div class=\"sk-item\"><div class=\"sk-estimator sk-toggleable\"><input class=\"sk-toggleable__control sk-hidden--visually\" id=\"sk-estimator-id-10\" type=\"checkbox\" ><label for=\"sk-estimator-id-10\" class=\"sk-toggleable__label sk-toggleable__label-arrow\">TfidfVectorizer</label><div class=\"sk-toggleable__content\"><pre>TfidfVectorizer(stop_words=[&#x27;i&#x27;, &#x27;me&#x27;, &#x27;my&#x27;, &#x27;myself&#x27;, &#x27;we&#x27;, &#x27;our&#x27;, &#x27;ours&#x27;,\n",
       "                            &#x27;ourselves&#x27;, &#x27;you&#x27;, &quot;you&#x27;re&quot;, &quot;you&#x27;ve&quot;, &quot;you&#x27;ll&quot;,\n",
       "                            &quot;you&#x27;d&quot;, &#x27;your&#x27;, &#x27;yours&#x27;, &#x27;yourself&#x27;, &#x27;yourselves&#x27;,\n",
       "                            &#x27;he&#x27;, &#x27;him&#x27;, &#x27;his&#x27;, &#x27;himself&#x27;, &#x27;she&#x27;, &quot;she&#x27;s&quot;,\n",
       "                            &#x27;her&#x27;, &#x27;hers&#x27;, &#x27;herself&#x27;, &#x27;it&#x27;, &quot;it&#x27;s&quot;, &#x27;its&#x27;,\n",
       "                            &#x27;itself&#x27;, ...])</pre></div></div></div><div class=\"sk-item\"><div class=\"sk-estimator sk-toggleable\"><input class=\"sk-toggleable__control sk-hidden--visually\" id=\"sk-estimator-id-11\" type=\"checkbox\" ><label for=\"sk-estimator-id-11\" class=\"sk-toggleable__label sk-toggleable__label-arrow\">MultinomialNB</label><div class=\"sk-toggleable__content\"><pre>MultinomialNB()</pre></div></div></div></div></div></div></div></div></div></div></div></div>"
      ],
      "text/plain": [
       "RandomizedSearchCV(cv=5,\n",
       "                   estimator=Pipeline(steps=[('tfidf',\n",
       "                                              TfidfVectorizer(stop_words=['i',\n",
       "                                                                          'me',\n",
       "                                                                          'my',\n",
       "                                                                          'myself',\n",
       "                                                                          'we',\n",
       "                                                                          'our',\n",
       "                                                                          'ours',\n",
       "                                                                          'ourselves',\n",
       "                                                                          'you',\n",
       "                                                                          \"you're\",\n",
       "                                                                          \"you've\",\n",
       "                                                                          \"you'll\",\n",
       "                                                                          \"you'd\",\n",
       "                                                                          'your',\n",
       "                                                                          'yours',\n",
       "                                                                          'yourself',\n",
       "                                                                          'yourselves',\n",
       "                                                                          'he',\n",
       "                                                                          'him',\n",
       "                                                                          'his',\n",
       "                                                                          'himself',\n",
       "                                                                          'she',\n",
       "                                                                          \"she's\",\n",
       "                                                                          'her',\n",
       "                                                                          'hers',\n",
       "                                                                          'herself',\n",
       "                                                                          'it',\n",
       "                                                                          \"it's\",\n",
       "                                                                          'its',\n",
       "                                                                          'itself', ...])),\n",
       "                                             ('clf', MultinomialNB())]),\n",
       "                   n_iter=50, n_jobs=-1,\n",
       "                   param_distributions={'clf__alpha': <scipy.stats._distn_infrastructure.rv_continuous_frozen object at 0x000002969E0EDBD0>,\n",
       "                                        'tfidf__max_df': <scipy.stats._distn_infrastructure.rv_continuous_frozen object at 0x00000296A084BE10>,\n",
       "                                        'tfidf__min_df': [1, 2, 3, 4, 5],\n",
       "                                        'tfidf__ngram_range': [(1, 1), (1, 2),\n",
       "                                                               (2, 2)]},\n",
       "                   random_state=42)"
      ]
     },
     "execution_count": 35,
     "metadata": {},
     "output_type": "execute_result"
    }
   ],
   "source": [
    "# Define the pipeline\n",
    "pipeline = Pipeline([\n",
    "    ('tfidf', TfidfVectorizer(stop_words=stopwords.words('english'))),\n",
    "    ('clf', MultinomialNB()),\n",
    "])\n",
    "\n",
    "# Define the parameter space for Random Search\n",
    "parameters = {\n",
    "    'tfidf__max_df': uniform(0.5, 0.5),  # Uniform distribution between 0.5 and 1.0\n",
    "    'tfidf__ngram_range': [(1, 1), (1, 2), (2, 2)],  # Test unigrams, bigrams, or both\n",
    "    'tfidf__min_df': [1, 2, 3, 4, 5],\n",
    "    'clf__alpha': uniform(0.001, 0.1),  # Uniform distribution between 0.001 and 0.101\n",
    "}\n",
    "\n",
    "# Set up Random Search\n",
    "random_search = RandomizedSearchCV(pipeline, parameters, n_iter=50, cv=5, random_state=42, n_jobs=-1)\n",
    "\n",
    "# Fit Random Search to the data\n",
    "random_search.fit(X_train, y_train)"
   ]
  },
  {
   "cell_type": "code",
   "execution_count": 36,
   "metadata": {},
   "outputs": [],
   "source": [
    "best_model = random_search.best_estimator_\n",
    "y_pred_rs = best_model.predict(X_test)"
   ]
  },
  {
   "cell_type": "code",
   "execution_count": 37,
   "metadata": {},
   "outputs": [
    {
     "name": "stdout",
     "output_type": "stream",
     "text": [
      "Pipeline(steps=[('tfidf',\n",
      "                 TfidfVectorizer(max_df=0.8005575058716043, min_df=3,\n",
      "                                 ngram_range=(1, 2),\n",
      "                                 stop_words=['i', 'me', 'my', 'myself', 'we',\n",
      "                                             'our', 'ours', 'ourselves', 'you',\n",
      "                                             \"you're\", \"you've\", \"you'll\",\n",
      "                                             \"you'd\", 'your', 'yours',\n",
      "                                             'yourself', 'yourselves', 'he',\n",
      "                                             'him', 'his', 'himself', 'she',\n",
      "                                             \"she's\", 'her', 'hers', 'herself',\n",
      "                                             'it', \"it's\", 'its', 'itself', ...])),\n",
      "                ('clf', MultinomialNB(alpha=0.08761761457749352))])\n",
      "----------------------------------------------------------------------------------------------------------\n",
      "{'clf__alpha': 0.08761761457749352, 'tfidf__max_df': 0.8005575058716043, 'tfidf__min_df': 3, 'tfidf__ngram_range': (1, 2)}\n"
     ]
    }
   ],
   "source": [
    "print(random_search.best_estimator_)\n",
    "print('----------------------------------------------------------------------------------------------------------')\n",
    "print(random_search.best_params_)"
   ]
  },
  {
   "cell_type": "code",
   "execution_count": 38,
   "metadata": {},
   "outputs": [
    {
     "name": "stdout",
     "output_type": "stream",
     "text": [
      "New Accuracy: 0.77\n",
      "New Confusion Matrix:\n",
      " [[322  49]\n",
      " [ 66  63]]\n"
     ]
    }
   ],
   "source": [
    "rs_accuracy = accuracy_score(y_test, y_pred)\n",
    "print(f'New Accuracy: {rs_accuracy}')\n",
    "\n",
    "rs_conf_matrix = confusion_matrix(y_test, y_pred)\n",
    "print('New Confusion Matrix:\\n', rs_conf_matrix)"
   ]
  },
  {
   "cell_type": "markdown",
   "metadata": {},
   "source": [
    "### apply ensamble with random forest"
   ]
  },
  {
   "cell_type": "code",
   "execution_count": 30,
   "metadata": {},
   "outputs": [
    {
     "data": {
      "text/html": [
       "<style>#sk-container-id-2 {color: black;}#sk-container-id-2 pre{padding: 0;}#sk-container-id-2 div.sk-toggleable {background-color: white;}#sk-container-id-2 label.sk-toggleable__label {cursor: pointer;display: block;width: 100%;margin-bottom: 0;padding: 0.3em;box-sizing: border-box;text-align: center;}#sk-container-id-2 label.sk-toggleable__label-arrow:before {content: \"▸\";float: left;margin-right: 0.25em;color: #696969;}#sk-container-id-2 label.sk-toggleable__label-arrow:hover:before {color: black;}#sk-container-id-2 div.sk-estimator:hover label.sk-toggleable__label-arrow:before {color: black;}#sk-container-id-2 div.sk-toggleable__content {max-height: 0;max-width: 0;overflow: hidden;text-align: left;background-color: #f0f8ff;}#sk-container-id-2 div.sk-toggleable__content pre {margin: 0.2em;color: black;border-radius: 0.25em;background-color: #f0f8ff;}#sk-container-id-2 input.sk-toggleable__control:checked~div.sk-toggleable__content {max-height: 200px;max-width: 100%;overflow: auto;}#sk-container-id-2 input.sk-toggleable__control:checked~label.sk-toggleable__label-arrow:before {content: \"▾\";}#sk-container-id-2 div.sk-estimator input.sk-toggleable__control:checked~label.sk-toggleable__label {background-color: #d4ebff;}#sk-container-id-2 div.sk-label input.sk-toggleable__control:checked~label.sk-toggleable__label {background-color: #d4ebff;}#sk-container-id-2 input.sk-hidden--visually {border: 0;clip: rect(1px 1px 1px 1px);clip: rect(1px, 1px, 1px, 1px);height: 1px;margin: -1px;overflow: hidden;padding: 0;position: absolute;width: 1px;}#sk-container-id-2 div.sk-estimator {font-family: monospace;background-color: #f0f8ff;border: 1px dotted black;border-radius: 0.25em;box-sizing: border-box;margin-bottom: 0.5em;}#sk-container-id-2 div.sk-estimator:hover {background-color: #d4ebff;}#sk-container-id-2 div.sk-parallel-item::after {content: \"\";width: 100%;border-bottom: 1px solid gray;flex-grow: 1;}#sk-container-id-2 div.sk-label:hover label.sk-toggleable__label {background-color: #d4ebff;}#sk-container-id-2 div.sk-serial::before {content: \"\";position: absolute;border-left: 1px solid gray;box-sizing: border-box;top: 0;bottom: 0;left: 50%;z-index: 0;}#sk-container-id-2 div.sk-serial {display: flex;flex-direction: column;align-items: center;background-color: white;padding-right: 0.2em;padding-left: 0.2em;position: relative;}#sk-container-id-2 div.sk-item {position: relative;z-index: 1;}#sk-container-id-2 div.sk-parallel {display: flex;align-items: stretch;justify-content: center;background-color: white;position: relative;}#sk-container-id-2 div.sk-item::before, #sk-container-id-2 div.sk-parallel-item::before {content: \"\";position: absolute;border-left: 1px solid gray;box-sizing: border-box;top: 0;bottom: 0;left: 50%;z-index: -1;}#sk-container-id-2 div.sk-parallel-item {display: flex;flex-direction: column;z-index: 1;position: relative;background-color: white;}#sk-container-id-2 div.sk-parallel-item:first-child::after {align-self: flex-end;width: 50%;}#sk-container-id-2 div.sk-parallel-item:last-child::after {align-self: flex-start;width: 50%;}#sk-container-id-2 div.sk-parallel-item:only-child::after {width: 0;}#sk-container-id-2 div.sk-dashed-wrapped {border: 1px dashed gray;margin: 0 0.4em 0.5em 0.4em;box-sizing: border-box;padding-bottom: 0.4em;background-color: white;}#sk-container-id-2 div.sk-label label {font-family: monospace;font-weight: bold;display: inline-block;line-height: 1.2em;}#sk-container-id-2 div.sk-label-container {text-align: center;}#sk-container-id-2 div.sk-container {/* jupyter's `normalize.less` sets `[hidden] { display: none; }` but bootstrap.min.css set `[hidden] { display: none !important; }` so we also need the `!important` here to be able to override the default hidden behavior on the sphinx rendered scikit-learn.org. See: https://github.com/scikit-learn/scikit-learn/issues/21755 */display: inline-block !important;position: relative;}#sk-container-id-2 div.sk-text-repr-fallback {display: none;}</style><div id=\"sk-container-id-2\" class=\"sk-top-container\"><div class=\"sk-text-repr-fallback\"><pre>RandomizedSearchCV(cv=5,\n",
       "                   estimator=Pipeline(steps=[(&#x27;tfidf&#x27;,\n",
       "                                              TfidfVectorizer(stop_words=[&#x27;i&#x27;,\n",
       "                                                                          &#x27;me&#x27;,\n",
       "                                                                          &#x27;my&#x27;,\n",
       "                                                                          &#x27;myself&#x27;,\n",
       "                                                                          &#x27;we&#x27;,\n",
       "                                                                          &#x27;our&#x27;,\n",
       "                                                                          &#x27;ours&#x27;,\n",
       "                                                                          &#x27;ourselves&#x27;,\n",
       "                                                                          &#x27;you&#x27;,\n",
       "                                                                          &quot;you&#x27;re&quot;,\n",
       "                                                                          &quot;you&#x27;ve&quot;,\n",
       "                                                                          &quot;you&#x27;ll&quot;,\n",
       "                                                                          &quot;you&#x27;d&quot;,\n",
       "                                                                          &#x27;your&#x27;,\n",
       "                                                                          &#x27;yours&#x27;,\n",
       "                                                                          &#x27;yourself&#x27;,\n",
       "                                                                          &#x27;yourselves&#x27;,\n",
       "                                                                          &#x27;he&#x27;,\n",
       "                                                                          &#x27;him&#x27;,\n",
       "                                                                          &#x27;his&#x27;,\n",
       "                                                                          &#x27;himself&#x27;,\n",
       "                                                                          &#x27;she&#x27;,\n",
       "                                                                          &quot;she&#x27;s&quot;,\n",
       "                                                                          &#x27;her&#x27;,\n",
       "                                                                          &#x27;hers&#x27;,\n",
       "                                                                          &#x27;herself&#x27;,\n",
       "                                                                          &#x27;it&#x27;,\n",
       "                                                                          &quot;it&#x27;s&quot;,\n",
       "                                                                          &#x27;its&#x27;,\n",
       "                                                                          &#x27;itself&#x27;, ...])),\n",
       "                                             (&#x27;clf&#x27;,\n",
       "                                              RandomForestClassifier(ra...\n",
       "                                        &#x27;clf__min_samples_leaf&#x27;: &lt;scipy.stats._distn_infrastructure.rv_discrete_frozen object at 0x000002969F5FE890&gt;,\n",
       "                                        &#x27;clf__min_samples_split&#x27;: &lt;scipy.stats._distn_infrastructure.rv_discrete_frozen object at 0x000002969F61AF10&gt;,\n",
       "                                        &#x27;clf__n_estimators&#x27;: &lt;scipy.stats._distn_infrastructure.rv_discrete_frozen object at 0x000002969F5F3A90&gt;,\n",
       "                                        &#x27;tfidf__max_df&#x27;: [0.5, 0.75, 1.0],\n",
       "                                        &#x27;tfidf__min_df&#x27;: [1, 2, 3],\n",
       "                                        &#x27;tfidf__ngram_range&#x27;: [(1, 1), (1, 2)]},\n",
       "                   random_state=42)</pre><b>In a Jupyter environment, please rerun this cell to show the HTML representation or trust the notebook. <br />On GitHub, the HTML representation is unable to render, please try loading this page with nbviewer.org.</b></div><div class=\"sk-container\" hidden><div class=\"sk-item sk-dashed-wrapped\"><div class=\"sk-label-container\"><div class=\"sk-label sk-toggleable\"><input class=\"sk-toggleable__control sk-hidden--visually\" id=\"sk-estimator-id-4\" type=\"checkbox\" ><label for=\"sk-estimator-id-4\" class=\"sk-toggleable__label sk-toggleable__label-arrow\">RandomizedSearchCV</label><div class=\"sk-toggleable__content\"><pre>RandomizedSearchCV(cv=5,\n",
       "                   estimator=Pipeline(steps=[(&#x27;tfidf&#x27;,\n",
       "                                              TfidfVectorizer(stop_words=[&#x27;i&#x27;,\n",
       "                                                                          &#x27;me&#x27;,\n",
       "                                                                          &#x27;my&#x27;,\n",
       "                                                                          &#x27;myself&#x27;,\n",
       "                                                                          &#x27;we&#x27;,\n",
       "                                                                          &#x27;our&#x27;,\n",
       "                                                                          &#x27;ours&#x27;,\n",
       "                                                                          &#x27;ourselves&#x27;,\n",
       "                                                                          &#x27;you&#x27;,\n",
       "                                                                          &quot;you&#x27;re&quot;,\n",
       "                                                                          &quot;you&#x27;ve&quot;,\n",
       "                                                                          &quot;you&#x27;ll&quot;,\n",
       "                                                                          &quot;you&#x27;d&quot;,\n",
       "                                                                          &#x27;your&#x27;,\n",
       "                                                                          &#x27;yours&#x27;,\n",
       "                                                                          &#x27;yourself&#x27;,\n",
       "                                                                          &#x27;yourselves&#x27;,\n",
       "                                                                          &#x27;he&#x27;,\n",
       "                                                                          &#x27;him&#x27;,\n",
       "                                                                          &#x27;his&#x27;,\n",
       "                                                                          &#x27;himself&#x27;,\n",
       "                                                                          &#x27;she&#x27;,\n",
       "                                                                          &quot;she&#x27;s&quot;,\n",
       "                                                                          &#x27;her&#x27;,\n",
       "                                                                          &#x27;hers&#x27;,\n",
       "                                                                          &#x27;herself&#x27;,\n",
       "                                                                          &#x27;it&#x27;,\n",
       "                                                                          &quot;it&#x27;s&quot;,\n",
       "                                                                          &#x27;its&#x27;,\n",
       "                                                                          &#x27;itself&#x27;, ...])),\n",
       "                                             (&#x27;clf&#x27;,\n",
       "                                              RandomForestClassifier(ra...\n",
       "                                        &#x27;clf__min_samples_leaf&#x27;: &lt;scipy.stats._distn_infrastructure.rv_discrete_frozen object at 0x000002969F5FE890&gt;,\n",
       "                                        &#x27;clf__min_samples_split&#x27;: &lt;scipy.stats._distn_infrastructure.rv_discrete_frozen object at 0x000002969F61AF10&gt;,\n",
       "                                        &#x27;clf__n_estimators&#x27;: &lt;scipy.stats._distn_infrastructure.rv_discrete_frozen object at 0x000002969F5F3A90&gt;,\n",
       "                                        &#x27;tfidf__max_df&#x27;: [0.5, 0.75, 1.0],\n",
       "                                        &#x27;tfidf__min_df&#x27;: [1, 2, 3],\n",
       "                                        &#x27;tfidf__ngram_range&#x27;: [(1, 1), (1, 2)]},\n",
       "                   random_state=42)</pre></div></div></div><div class=\"sk-parallel\"><div class=\"sk-parallel-item\"><div class=\"sk-item\"><div class=\"sk-label-container\"><div class=\"sk-label sk-toggleable\"><input class=\"sk-toggleable__control sk-hidden--visually\" id=\"sk-estimator-id-5\" type=\"checkbox\" ><label for=\"sk-estimator-id-5\" class=\"sk-toggleable__label sk-toggleable__label-arrow\">estimator: Pipeline</label><div class=\"sk-toggleable__content\"><pre>Pipeline(steps=[(&#x27;tfidf&#x27;,\n",
       "                 TfidfVectorizer(stop_words=[&#x27;i&#x27;, &#x27;me&#x27;, &#x27;my&#x27;, &#x27;myself&#x27;, &#x27;we&#x27;,\n",
       "                                             &#x27;our&#x27;, &#x27;ours&#x27;, &#x27;ourselves&#x27;, &#x27;you&#x27;,\n",
       "                                             &quot;you&#x27;re&quot;, &quot;you&#x27;ve&quot;, &quot;you&#x27;ll&quot;,\n",
       "                                             &quot;you&#x27;d&quot;, &#x27;your&#x27;, &#x27;yours&#x27;,\n",
       "                                             &#x27;yourself&#x27;, &#x27;yourselves&#x27;, &#x27;he&#x27;,\n",
       "                                             &#x27;him&#x27;, &#x27;his&#x27;, &#x27;himself&#x27;, &#x27;she&#x27;,\n",
       "                                             &quot;she&#x27;s&quot;, &#x27;her&#x27;, &#x27;hers&#x27;, &#x27;herself&#x27;,\n",
       "                                             &#x27;it&#x27;, &quot;it&#x27;s&quot;, &#x27;its&#x27;, &#x27;itself&#x27;, ...])),\n",
       "                (&#x27;clf&#x27;, RandomForestClassifier(random_state=42))])</pre></div></div></div><div class=\"sk-serial\"><div class=\"sk-item\"><div class=\"sk-serial\"><div class=\"sk-item\"><div class=\"sk-estimator sk-toggleable\"><input class=\"sk-toggleable__control sk-hidden--visually\" id=\"sk-estimator-id-6\" type=\"checkbox\" ><label for=\"sk-estimator-id-6\" class=\"sk-toggleable__label sk-toggleable__label-arrow\">TfidfVectorizer</label><div class=\"sk-toggleable__content\"><pre>TfidfVectorizer(stop_words=[&#x27;i&#x27;, &#x27;me&#x27;, &#x27;my&#x27;, &#x27;myself&#x27;, &#x27;we&#x27;, &#x27;our&#x27;, &#x27;ours&#x27;,\n",
       "                            &#x27;ourselves&#x27;, &#x27;you&#x27;, &quot;you&#x27;re&quot;, &quot;you&#x27;ve&quot;, &quot;you&#x27;ll&quot;,\n",
       "                            &quot;you&#x27;d&quot;, &#x27;your&#x27;, &#x27;yours&#x27;, &#x27;yourself&#x27;, &#x27;yourselves&#x27;,\n",
       "                            &#x27;he&#x27;, &#x27;him&#x27;, &#x27;his&#x27;, &#x27;himself&#x27;, &#x27;she&#x27;, &quot;she&#x27;s&quot;,\n",
       "                            &#x27;her&#x27;, &#x27;hers&#x27;, &#x27;herself&#x27;, &#x27;it&#x27;, &quot;it&#x27;s&quot;, &#x27;its&#x27;,\n",
       "                            &#x27;itself&#x27;, ...])</pre></div></div></div><div class=\"sk-item\"><div class=\"sk-estimator sk-toggleable\"><input class=\"sk-toggleable__control sk-hidden--visually\" id=\"sk-estimator-id-7\" type=\"checkbox\" ><label for=\"sk-estimator-id-7\" class=\"sk-toggleable__label sk-toggleable__label-arrow\">RandomForestClassifier</label><div class=\"sk-toggleable__content\"><pre>RandomForestClassifier(random_state=42)</pre></div></div></div></div></div></div></div></div></div></div></div></div>"
      ],
      "text/plain": [
       "RandomizedSearchCV(cv=5,\n",
       "                   estimator=Pipeline(steps=[('tfidf',\n",
       "                                              TfidfVectorizer(stop_words=['i',\n",
       "                                                                          'me',\n",
       "                                                                          'my',\n",
       "                                                                          'myself',\n",
       "                                                                          'we',\n",
       "                                                                          'our',\n",
       "                                                                          'ours',\n",
       "                                                                          'ourselves',\n",
       "                                                                          'you',\n",
       "                                                                          \"you're\",\n",
       "                                                                          \"you've\",\n",
       "                                                                          \"you'll\",\n",
       "                                                                          \"you'd\",\n",
       "                                                                          'your',\n",
       "                                                                          'yours',\n",
       "                                                                          'yourself',\n",
       "                                                                          'yourselves',\n",
       "                                                                          'he',\n",
       "                                                                          'him',\n",
       "                                                                          'his',\n",
       "                                                                          'himself',\n",
       "                                                                          'she',\n",
       "                                                                          \"she's\",\n",
       "                                                                          'her',\n",
       "                                                                          'hers',\n",
       "                                                                          'herself',\n",
       "                                                                          'it',\n",
       "                                                                          \"it's\",\n",
       "                                                                          'its',\n",
       "                                                                          'itself', ...])),\n",
       "                                             ('clf',\n",
       "                                              RandomForestClassifier(ra...\n",
       "                                        'clf__min_samples_leaf': <scipy.stats._distn_infrastructure.rv_discrete_frozen object at 0x000002969F5FE890>,\n",
       "                                        'clf__min_samples_split': <scipy.stats._distn_infrastructure.rv_discrete_frozen object at 0x000002969F61AF10>,\n",
       "                                        'clf__n_estimators': <scipy.stats._distn_infrastructure.rv_discrete_frozen object at 0x000002969F5F3A90>,\n",
       "                                        'tfidf__max_df': [0.5, 0.75, 1.0],\n",
       "                                        'tfidf__min_df': [1, 2, 3],\n",
       "                                        'tfidf__ngram_range': [(1, 1), (1, 2)]},\n",
       "                   random_state=42)"
      ]
     },
     "execution_count": 30,
     "metadata": {},
     "output_type": "execute_result"
    }
   ],
   "source": [
    "pipeline_rf = Pipeline([\n",
    "    ('tfidf', TfidfVectorizer(stop_words=stopwords.words('english'))),\n",
    "    ('clf', RandomForestClassifier(random_state=42)),\n",
    "])\n",
    "\n",
    "# Parameter space to explore\n",
    "param_dist = {\n",
    "    'tfidf__ngram_range': [(1, 1), (1, 2)],\n",
    "    'tfidf__max_df': [0.5, 0.75, 1.0],\n",
    "    'tfidf__min_df': [1, 2, 3],\n",
    "    'clf__n_estimators': sp_randint(100, 500),\n",
    "    'clf__max_depth': [None] + list(sp_randint(3, 10).rvs(3)),\n",
    "    'clf__min_samples_split': sp_randint(2, 11),\n",
    "    'clf__min_samples_leaf': sp_randint(1, 11),\n",
    "    'clf__bootstrap': [True, False]\n",
    "}\n",
    "\n",
    "n_iter_search = 20\n",
    "\n",
    "random_search = RandomizedSearchCV(pipeline_rf, param_distributions=param_dist, \n",
    "                                   n_iter=n_iter_search, cv=5, random_state=42)\n",
    "\n",
    "random_search.fit(X_train, y_train)"
   ]
  },
  {
   "cell_type": "code",
   "execution_count": 31,
   "metadata": {},
   "outputs": [
    {
     "name": "stdout",
     "output_type": "stream",
     "text": [
      "RandomForest Tuned Accuracy: 0.764\n",
      "Confusion Matrix for the Tuned RandomForest Model:\n",
      "[[367   4]\n",
      " [114  15]]\n"
     ]
    }
   ],
   "source": [
    "# Predict with the best found parameters\n",
    "y_pred_rf_tuned = random_search.predict(X_test)\n",
    "\n",
    "# Calculate accuracy\n",
    "accuracy_rf_tuned = accuracy_score(y_test, y_pred_rf_tuned)\n",
    "print(f'RandomForest Tuned Accuracy: {accuracy_rf_tuned}')\n",
    "\n",
    "conf_matrix_rf_tuned = confusion_matrix(y_test, y_pred_rf_tuned)\n",
    "print(\"Confusion Matrix for the Tuned RandomForest Model:\")\n",
    "print(conf_matrix_rf_tuned)"
   ]
  },
  {
   "cell_type": "code",
   "execution_count": 39,
   "metadata": {},
   "outputs": [
    {
     "name": "stdout",
     "output_type": "stream",
     "text": [
      "Ensemble Accuracy: 0.764\n"
     ]
    }
   ],
   "source": [
    "# Assuming y_pred_nb is available\n",
    "y_pred_ensemble = (y_pred_rf_tuned + y_pred_rs) / 2\n",
    "y_pred_ensemble = np.round(y_pred_ensemble).astype(int)\n",
    "\n",
    "# Calculate ensemble accuracy\n",
    "accuracy_ensemble = accuracy_score(y_test, y_pred_ensemble)\n",
    "print(f'Ensemble Accuracy: {accuracy_ensemble}')"
   ]
  },
  {
   "cell_type": "markdown",
   "metadata": {},
   "source": [
    "### Apply Feature Engineering and test the best model we get above"
   ]
  },
  {
   "cell_type": "code",
   "execution_count": 45,
   "metadata": {},
   "outputs": [],
   "source": [
    "def combine_text_columns(data_frame, to_combine=['FullDescription', 'Title', 'Company']):\n",
    "    return data_frame[to_combine].apply(lambda x: ' '.join(x.dropna()), axis=1)\n",
    "\n",
    "text_pipeline_nb = Pipeline([\n",
    "    ('text_preprocessor', FunctionTransformer(lambda x: combine_text_columns(x, ['FullDescription', 'Title', 'Company']), validate=False)), \n",
    "    ('tfidf', TfidfVectorizer(stop_words=stopwords.words('english'), \n",
    "                              max_df=0.8005575058716043, \n",
    "                              min_df=3, \n",
    "                              ngram_range=(1, 2))),\n",
    "    ('classifier', MultinomialNB(alpha=0.08761761457749352))\n",
    "])"
   ]
  },
  {
   "cell_type": "code",
   "execution_count": 46,
   "metadata": {},
   "outputs": [
    {
     "name": "stdout",
     "output_type": "stream",
     "text": [
      "Text-based NB Model Accuracy: 0.782\n",
      "Text-based NB Model Confusion Matrix:\n",
      " [[325  46]\n",
      " [ 63  66]]\n"
     ]
    }
   ],
   "source": [
    "X_text_train = X_train[['FullDescription', 'Title', 'Company']]  \n",
    "X_text_test = X_test[['FullDescription', 'Title', 'Company']]\n",
    "\n",
    "# Train the model on text data\n",
    "text_pipeline_nb.fit(X_text_train, y_train)\n",
    "\n",
    "# Evaluate the model\n",
    "y_pred_text_nb = text_pipeline_nb.predict(X_text_test)\n",
    "accuracy_text_nb = accuracy_score(y_test, y_pred_text_nb)\n",
    "conf_matrix_text_nb = confusion_matrix(y_test, y_pred_text_nb)\n",
    "\n",
    "print(f'Text-based NB Model Accuracy: {accuracy_text_nb}')\n",
    "print('Text-based NB Model Confusion Matrix:\\n', conf_matrix_text_nb)"
   ]
  },
  {
   "cell_type": "code",
   "execution_count": 55,
   "metadata": {},
   "outputs": [
    {
     "name": "stdout",
     "output_type": "stream",
     "text": [
      "memory: None\n",
      "steps: [('text_preprocessor', FunctionTransformer(func=<function <lambda> at 0x00000296A085B2E0>)), ('tfidf', TfidfVectorizer(max_df=0.8005575058716043, min_df=3, ngram_range=(1, 2),\n",
      "                stop_words=['i', 'me', 'my', 'myself', 'we', 'our', 'ours',\n",
      "                            'ourselves', 'you', \"you're\", \"you've\", \"you'll\",\n",
      "                            \"you'd\", 'your', 'yours', 'yourself', 'yourselves',\n",
      "                            'he', 'him', 'his', 'himself', 'she', \"she's\",\n",
      "                            'her', 'hers', 'herself', 'it', \"it's\", 'its',\n",
      "                            'itself', ...])), ('classifier', MultinomialNB(alpha=0.08761761457749352))]\n",
      "verbose: False\n",
      "text_preprocessor: FunctionTransformer(func=<function <lambda> at 0x00000296A085B2E0>)\n",
      "tfidf: TfidfVectorizer(max_df=0.8005575058716043, min_df=3, ngram_range=(1, 2),\n",
      "                stop_words=['i', 'me', 'my', 'myself', 'we', 'our', 'ours',\n",
      "                            'ourselves', 'you', \"you're\", \"you've\", \"you'll\",\n",
      "                            \"you'd\", 'your', 'yours', 'yourself', 'yourselves',\n",
      "                            'he', 'him', 'his', 'himself', 'she', \"she's\",\n",
      "                            'her', 'hers', 'herself', 'it', \"it's\", 'its',\n",
      "                            'itself', ...])\n",
      "classifier: MultinomialNB(alpha=0.08761761457749352)\n",
      "text_preprocessor__accept_sparse: False\n",
      "text_preprocessor__check_inverse: True\n",
      "text_preprocessor__feature_names_out: None\n",
      "text_preprocessor__func: <function <lambda> at 0x00000296A085B2E0>\n",
      "text_preprocessor__inv_kw_args: None\n",
      "text_preprocessor__inverse_func: None\n",
      "text_preprocessor__kw_args: None\n",
      "text_preprocessor__validate: False\n",
      "tfidf__analyzer: word\n",
      "tfidf__binary: False\n",
      "tfidf__decode_error: strict\n",
      "tfidf__dtype: <class 'numpy.float64'>\n",
      "tfidf__encoding: utf-8\n",
      "tfidf__input: content\n",
      "tfidf__lowercase: True\n",
      "tfidf__max_df: 0.8005575058716043\n",
      "tfidf__max_features: None\n",
      "tfidf__min_df: 3\n",
      "tfidf__ngram_range: (1, 2)\n",
      "tfidf__norm: l2\n",
      "tfidf__preprocessor: None\n",
      "tfidf__smooth_idf: True\n",
      "tfidf__stop_words: ['i', 'me', 'my', 'myself', 'we', 'our', 'ours', 'ourselves', 'you', \"you're\", \"you've\", \"you'll\", \"you'd\", 'your', 'yours', 'yourself', 'yourselves', 'he', 'him', 'his', 'himself', 'she', \"she's\", 'her', 'hers', 'herself', 'it', \"it's\", 'its', 'itself', 'they', 'them', 'their', 'theirs', 'themselves', 'what', 'which', 'who', 'whom', 'this', 'that', \"that'll\", 'these', 'those', 'am', 'is', 'are', 'was', 'were', 'be', 'been', 'being', 'have', 'has', 'had', 'having', 'do', 'does', 'did', 'doing', 'a', 'an', 'the', 'and', 'but', 'if', 'or', 'because', 'as', 'until', 'while', 'of', 'at', 'by', 'for', 'with', 'about', 'against', 'between', 'into', 'through', 'during', 'before', 'after', 'above', 'below', 'to', 'from', 'up', 'down', 'in', 'out', 'on', 'off', 'over', 'under', 'again', 'further', 'then', 'once', 'here', 'there', 'when', 'where', 'why', 'how', 'all', 'any', 'both', 'each', 'few', 'more', 'most', 'other', 'some', 'such', 'no', 'nor', 'not', 'only', 'own', 'same', 'so', 'than', 'too', 'very', 's', 't', 'can', 'will', 'just', 'don', \"don't\", 'should', \"should've\", 'now', 'd', 'll', 'm', 'o', 're', 've', 'y', 'ain', 'aren', \"aren't\", 'couldn', \"couldn't\", 'didn', \"didn't\", 'doesn', \"doesn't\", 'hadn', \"hadn't\", 'hasn', \"hasn't\", 'haven', \"haven't\", 'isn', \"isn't\", 'ma', 'mightn', \"mightn't\", 'mustn', \"mustn't\", 'needn', \"needn't\", 'shan', \"shan't\", 'shouldn', \"shouldn't\", 'wasn', \"wasn't\", 'weren', \"weren't\", 'won', \"won't\", 'wouldn', \"wouldn't\"]\n",
      "tfidf__strip_accents: None\n",
      "tfidf__sublinear_tf: False\n",
      "tfidf__token_pattern: (?u)\\b\\w\\w+\\b\n",
      "tfidf__tokenizer: None\n",
      "tfidf__use_idf: True\n",
      "tfidf__vocabulary: None\n",
      "classifier__alpha: 0.08761761457749352\n",
      "classifier__class_prior: None\n",
      "classifier__fit_prior: True\n",
      "classifier__force_alpha: warn\n"
     ]
    }
   ],
   "source": [
    "model_params = text_pipeline_nb.get_params()\n",
    "\n",
    "for param_name, param_value in model_params.items():\n",
    "    print(f\"{param_name}: {param_value}\")"
   ]
  },
  {
   "cell_type": "code",
   "execution_count": 53,
   "metadata": {},
   "outputs": [],
   "source": [
    "tfidf_vect = text_pipeline_nb.named_steps['tfidf']\n",
    "\n",
    "clf = text_pipeline_nb.named_steps['classifier']\n"
   ]
  },
  {
   "cell_type": "code",
   "execution_count": 54,
   "metadata": {},
   "outputs": [
    {
     "name": "stdout",
     "output_type": "stream",
     "text": [
      "Top 10 indicative words for Low Salary:\n",
      "sales\n",
      "experience\n",
      "manager\n",
      "work\n",
      "role\n",
      "team\n",
      "business\n",
      "skills\n",
      "working\n",
      "care\n",
      "\n",
      "\n",
      "Top 10 indicative words for High Salary:\n",
      "business\n",
      "experience\n",
      "project\n",
      "manager\n",
      "development\n",
      "management\n",
      "team\n",
      "senior\n",
      "role\n",
      "client\n",
      "\n",
      "\n"
     ]
    }
   ],
   "source": [
    "feature_names = tfidf_vect.get_feature_names_out()\n",
    "\n",
    "log_prob = clf.feature_log_prob_\n",
    "\n",
    "top_n = 10\n",
    "\n",
    "# Class 0 (Low Salary), Class 1 (High Salary)\n",
    "for i, class_label in enumerate(['Low Salary', 'High Salary']):\n",
    "    top_features_indices = log_prob[i].argsort()[-top_n:][::-1]\n",
    "    top_features = [feature_names[j] for j in top_features_indices]\n",
    "    \n",
    "    print(f\"Top 10 indicative words for {class_label}:\")\n",
    "    for feature in top_features:\n",
    "        print(feature)\n",
    "    print(\"\\n\")\n"
   ]
  }
 ],
 "metadata": {
  "kernelspec": {
   "display_name": "base",
   "language": "python",
   "name": "python3"
  },
  "language_info": {
   "codemirror_mode": {
    "name": "ipython",
    "version": 3
   },
   "file_extension": ".py",
   "mimetype": "text/x-python",
   "name": "python",
   "nbconvert_exporter": "python",
   "pygments_lexer": "ipython3",
   "version": "3.11.5"
  }
 },
 "nbformat": 4,
 "nbformat_minor": 2
}
