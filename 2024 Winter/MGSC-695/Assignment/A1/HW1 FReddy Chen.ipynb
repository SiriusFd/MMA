{
 "cells": [
  {
   "cell_type": "markdown",
   "metadata": {},
   "source": [
    "### Run this lines to read the csv file containing the data from the CSV file. "
   ]
  },
  {
   "cell_type": "code",
   "execution_count": 21,
   "metadata": {},
   "outputs": [
    {
     "name": "stdout",
     "output_type": "stream",
     "text": [
      "         Route  Q-class fare price  Y-class fare price  \\\n",
      "0  Bos-Chicago                 200                 230   \n",
      "1       Bos-SF                 320                 420   \n",
      "2       Bos-LA                 400                 490   \n",
      "3   NY-Chicago                 250                 290   \n",
      "4        NY-SF                 410                 550   \n",
      "5        NY-LA                 450                 550   \n",
      "6   Chicago-SF                 200                 230   \n",
      "7   Chicago-LA                 250                 300   \n",
      "\n",
      "   Expected demand for Q-class  Expected demand for Y-class  \n",
      "0                           25                           20  \n",
      "1                           55                           40  \n",
      "2                           65                           25  \n",
      "3                           24                           16  \n",
      "4                           65                           50  \n",
      "5                           40                           35  \n",
      "6                           21                           20  \n",
      "7                           25                           14  \n"
     ]
    }
   ],
   "source": [
    "import pandas as pd ## importing the pandas package \n",
    "Spirit= pd.read_csv('Spirit Airways.csv')\n",
    "print(Spirit)"
   ]
  },
  {
   "cell_type": "code",
   "execution_count": 2,
   "metadata": {},
   "outputs": [
    {
     "data": {
      "text/plain": [
       "0    200\n",
       "1    320\n",
       "2    400\n",
       "3    250\n",
       "4    410\n",
       "5    450\n",
       "6    200\n",
       "7    250\n",
       "Name: Q-class fare price, dtype: int64"
      ]
     },
     "execution_count": 2,
     "metadata": {},
     "output_type": "execute_result"
    }
   ],
   "source": [
    "# For example, to access column the prices for Q-class:\n",
    "Spirit['Q-class fare price']"
   ]
  },
  {
   "cell_type": "markdown",
   "metadata": {},
   "source": [
    "# Q1"
   ]
  },
  {
   "cell_type": "markdown",
   "metadata": {},
   "source": [
    "### 1. For each query, determine the possible range of bids that Residence Inn can submit to land in each position."
   ]
  },
  {
   "cell_type": "markdown",
   "metadata": {},
   "source": [
    "For \"hotel near McGill\":\n",
    "- **Le St Martin**: 125\n",
    "- **Le Germain**: 90\n",
    "- **Sofitel**: 120\n",
    "- **Residence Inn**: 9 x b1\n",
    "\n",
    "For \"McGill hotel\":\n",
    "- **Sofitel**: 160\n",
    "- **Le St Martin**: 75\n",
    "- **Le Germain**: 0 \n",
    "- **Residence Inn**: 9 x b2 \n",
    "\n",
    "For \"Downtown Montreal hotel\":\n",
    "- **Le St Martin**: 175\n",
    "- **Le Germain**: 120\n",
    "- **Sofitel**: 100\n",
    "- **Residence Inn**: 9 x b3 \n",
    "\n",
    "1. **first position** - Residence Inn's bid x QS must exceed all others.\n",
    "2. **second position** - it must exceed all but the highest bid x QS.\n",
    "3. **third position** - it must be higher than at least one other bid x QS.\n",
    "4. **fourth position** - it simply needs to be positive"
   ]
  },
  {
   "cell_type": "code",
   "execution_count": 8,
   "metadata": {},
   "outputs": [
    {
     "data": {
      "text/plain": [
       "([(13.898888888888889, inf),\n",
       "  (13.343333333333334, 13.87888888888889),\n",
       "  (10.01, 13.323333333333334),\n",
       "  (0, 9.99)],\n",
       " [(17.78777777777778, inf),\n",
       "  (8.343333333333334, 17.767777777777777),\n",
       "  (0.01, 8.323333333333334),\n",
       "  (0, -0.01)],\n",
       " [(19.454444444444444, inf),\n",
       "  (13.343333333333334, 19.43444444444444),\n",
       "  (11.12111111111111, 13.323333333333334),\n",
       "  (0, 11.101111111111111)])"
      ]
     },
     "execution_count": 8,
     "metadata": {},
     "output_type": "execute_result"
    }
   ],
   "source": [
    "QS_Residence_Inn = 9\n",
    "\n",
    "bids_and_quality_scores = {\n",
    "    \"Hotel\": [\"Residence Inn\", \"Le St Martin\", \"Le Germain\", \"Sofitel\"],\n",
    "    \"hotel near McGill Bid xQS\": [125, 90, 120],\n",
    "    \"McGill hotel Bid xQS\": [75, 0, 160],\n",
    "    \"Downtown Montreal hotel Bid xQS\": [175, 120, 100]\n",
    "}\n",
    "\n",
    "bids_near_mcgill = bids_and_quality_scores[\"hotel near McGill Bid xQS\"]\n",
    "bids_mcgill_hotel = bids_and_quality_scores[\"McGill hotel Bid xQS\"]\n",
    "bids_downtown_montreal = bids_and_quality_scores[\"Downtown Montreal hotel Bid xQS\"]\n",
    "\n",
    "def calculate_bid_ranges(bid_x_qs_list, QS):\n",
    "    bid_x_qs_list_sorted = sorted(bid_x_qs_list, reverse=True)\n",
    "    ranges = []\n",
    "    for i in range(len(bid_x_qs_list_sorted)+1):\n",
    "        if i == 0:  # First position\n",
    "            lower_bound = (bid_x_qs_list_sorted[i]/QS) + 0.01  # Must bid higher than highest bid x QS\n",
    "            upper_bound = float('inf')  # No upper limit for the first position\n",
    "        elif i == len(bid_x_qs_list_sorted):  # Last position\n",
    "            lower_bound = 0  # No lower limit for the last position\n",
    "            upper_bound = (bid_x_qs_list_sorted[i-1]/QS) - 0.01  # Must bid less than the lowest bid x QS\n",
    "        else:\n",
    "            lower_bound = (bid_x_qs_list_sorted[i]/QS) + 0.01  # Must bid higher than the next lower bid x QS\n",
    "            upper_bound = (bid_x_qs_list_sorted[i-1]/QS) - 0.01  # Must bid less than the next higher bid x QS\n",
    "        ranges.append((lower_bound, upper_bound))\n",
    "    return ranges\n",
    "\n",
    "bid_ranges_near_mcgill = calculate_bid_ranges(bids_near_mcgill, QS_Residence_Inn)\n",
    "bid_ranges_mcgill_hotel = calculate_bid_ranges(bids_mcgill_hotel, QS_Residence_Inn)\n",
    "bid_ranges_downtown_montreal = calculate_bid_ranges(bids_downtown_montreal, QS_Residence_Inn)\n",
    "\n",
    "bid_ranges_near_mcgill, bid_ranges_mcgill_hotel, bid_ranges_downtown_montreal\n"
   ]
  },
  {
   "cell_type": "markdown",
   "metadata": {},
   "source": [
    "For the query \"hotel near McGill\":\n",
    "- First Position: Bid must be higher than $13.90.\n",
    "- Second Position: Bid must be between $13.34 and $13.88.\n",
    "- Third Position: Bid must be between $10.01 and $13.32.\n",
    "- Fourth Position: Bid must be less than $9.99.\n",
    "\n",
    "For the query \"McGill hotel\":\n",
    "- First Position: Bid must be higher than $17.79.\n",
    "- Second Position: Bid must be between $8.34 and $17.76.\n",
    "- Third Position: Bid must be between $0.01 and $8.32.\n",
    "- Fourth Position: This is not applicable as Le Germain has bid 0, making it impossible to bid lower while maintaining a positive bid.\n",
    "\n",
    "For the query \"Downtown Montreal hotel\":\n",
    "- First Position: Bid must be higher than $19.45.\n",
    "- Second Position: Bid must be between $13.34 and $19.43.\n",
    "- Third Position: Bid must be between $11.12 and $13.32.\n",
    "- Fourth Position: Bid must be less than $11.10."
   ]
  },
  {
   "cell_type": "markdown",
   "metadata": {},
   "source": [
    "### 2. For each query and position, what is the PPC (pay per click) for the Residence Inn?"
   ]
  },
  {
   "cell_type": "markdown",
   "metadata": {},
   "source": [
    "- **\"hotel near McGill\"** \n",
    "    - First Position: $0.01$\n",
    "    - Second Position: $\\frac{125}{9} + 0.01 \\approx 13.89$\n",
    "    - Third Position: $\\frac{90}{9} + 0.01 = 10.01$\n",
    "    - Fourth Position: $\\frac{120}{9} + 0.01 \\approx 13.34$\n",
    "    \n",
    "\n",
    "- **\"McGill hotel\"** \n",
    "    - First Position: $0.01$\n",
    "    - Second Position: $\\frac{75}{9} + 0.01 \\approx 8.34$\n",
    "    - Third Position: $0$\n",
    "    - Fourth Position: $\\frac{160}{9} + 0.01 = 17.78$\n",
    "\n",
    "- **\"Downtown Montreal hotel\"** \n",
    "    - First Position PPC: $0.01$\n",
    "    - Second Position PPC: $\\frac{175}{9} + 0.01 \\approx 19.54$\n",
    "    - Third Position: $\\frac{120}{9} + 0.01 \\approx 13.34$\n",
    "    - Fourth Position: $\\frac{100}{9} + 0.01 \\approx 11.12$."
   ]
  },
  {
   "cell_type": "markdown",
   "metadata": {},
   "source": [
    "### 3. Residence Inn's bid optimization problem is reduced to deciding which position they want to be in for every query. Residence Inn will always bid for one position only per query. Definne your variables. Write the constraint that your variables need to verify."
   ]
  },
  {
   "cell_type": "markdown",
   "metadata": {},
   "source": [
    "### Decision Variables\n",
    "\n",
    "Let $x_{i,j}$ be the decision variable that indicates whether Residence Inn chooses position $j$ for query $i$, where $i$ is the query index, and $j$ is the position index. For simplicity, $x_{i,j}$ can be binary:\n",
    "\n",
    "- $x_{i,j} = 1$ if Residence Inn chooses position $j$ for query $i$,\n",
    "- $x_{i,j} = 0$ otherwise.\n",
    "\n",
    "\n",
    "### Constraints\n",
    "\n",
    "1. **Single Position per Query Constraint**: For each query $i$, the Residence Inn can only choose one position. This can be represented as:\n",
    "$$  \\sum_{j} x_{i,j} = 1 \\quad \\forall i  $$\n",
    "\n",
    "2. **Binary Constraint**: The decision variables are binary:\n",
    "$$ x_{i,j} \\in \\{0,1\\} \\quad \\forall i,j $$\n",
    "\n",
    "4. **Non-Negativity Constraint**: Although already covered by the binary nature of $x_{i,j}$, it's implicitly stated that:\n",
    "$$ x_{i,j} \\geq 0 \\quad \\forall i,j $$\n"
   ]
  },
  {
   "cell_type": "markdown",
   "metadata": {},
   "source": [
    "### 4.Residence Inn has set a maximum number of times (Max Displays, see Figure 3) they would bid for any position for every query. Assume if Residence Inn bids for a particular position for a query, they will bid that maximum number of displays.\n",
    "\n",
    "(a) Write the budget constraint for Residence Inn. \\\n",
    "(b) Write the Objective function for Residence Inn. "
   ]
  },
  {
   "cell_type": "markdown",
   "metadata": {},
   "source": [
    "#### (a) Budget Constraint for Residence Inn\n",
    "\n",
    "Let $B$ represent Residence Inn's daily budget. The budget constraint is then:\n",
    "\n",
    "$$ \\sum_{i} \\sum_{j} (PPC_{i,j} \\cdot CTR_{j} \\cdot MaxDisplays_{i,j} \\cdot x_{i,j}) \\leq B $$\n",
    "\n",
    "### (b) Objective Function for Residence Inn\n",
    "\n",
    "$$ \\text{Maximize} \\quad Z = \\sum_{i} \\sum_{j} (CTR_{j} \\cdot MaxDisplays_{i,j} \\cdot x_{i,j}) $$"
   ]
  },
  {
   "cell_type": "markdown",
   "metadata": {},
   "source": [
    "### 5. Using Jupyter Notebook and Gurobi, write the Residence Inn's optimization problem that you for- mulated in the previous questions. What is the optimal bid position decisions for each query? What should the actual bid ranges for b1, b2 and b3 be? What is the optimal expected click-through rate for the Residence Inn?"
   ]
  },
  {
   "cell_type": "code",
   "execution_count": 1,
   "metadata": {},
   "outputs": [
    {
     "name": "stdout",
     "output_type": "stream",
     "text": [
      "Set parameter Username\n",
      "Academic license - for non-commercial use only - expires 2025-03-18\n"
     ]
    }
   ],
   "source": [
    "import gurobipy as gp\n",
    "from gurobipy import GRB\n",
    "\n",
    "model = gp.Model(\"Residence_Inn_Optimization\")"
   ]
  },
  {
   "cell_type": "code",
   "execution_count": 7,
   "metadata": {},
   "outputs": [],
   "source": [
    "x = model.addVars(3, 4, vtype=GRB.BINARY, name=\"x\")"
   ]
  },
  {
   "cell_type": "code",
   "execution_count": 8,
   "metadata": {},
   "outputs": [],
   "source": [
    "for i in range(3):  # Assuming 3 queries\n",
    "    model.addConstr(gp.quicksum(x[i, j] for j in range(4)) == 1, f\"SinglePosition_{i}\")"
   ]
  },
  {
   "cell_type": "code",
   "execution_count": 9,
   "metadata": {},
   "outputs": [
    {
     "data": {
      "text/plain": [
       "<gurobi.Constr *Awaiting Model Update*>"
      ]
     },
     "execution_count": 9,
     "metadata": {},
     "output_type": "execute_result"
    }
   ],
   "source": [
    "PPC = [[0.01, 13.89, 10.01, 13.34], [0.01, 8.34, 0, 17.78], [0.01, 19.54, 13.34, 11.12]]  # Placeholder PPC values\n",
    "CTR = [0.08, 0.05, 0.025, 0.01]  # Placeholder CTR values\n",
    "MaxDisplays = [[8, 14, 15, 15], [7, 20, 20, 0], [4, 11, 25, 25]]  # Placeholder MaxDisplays values\n",
    "\n",
    "B = 10  # Residence Inn's budget\n",
    "\n",
    "model.addConstr(\n",
    "    sum(PPC[i][j] * CTR[j] * MaxDisplays[i][j] * x[i,j] for i in range(3) for j in range(4)) <= B, \n",
    "    \"BudgetConstraint\"\n",
    ")"
   ]
  },
  {
   "cell_type": "code",
   "execution_count": 10,
   "metadata": {},
   "outputs": [],
   "source": [
    "model.setObjective(\n",
    "    sum(CTR[j] * MaxDisplays[i][j] * x[i,j] for i in range(3) for j in range(4)), \n",
    "    GRB.MAXIMIZE\n",
    ")"
   ]
  },
  {
   "cell_type": "code",
   "execution_count": 11,
   "metadata": {},
   "outputs": [
    {
     "name": "stdout",
     "output_type": "stream",
     "text": [
      "Gurobi Optimizer version 11.0.1 build v11.0.1rc0 (win64 - Windows 11.0 (22631.2))\n",
      "\n",
      "CPU model: 12th Gen Intel(R) Core(TM) i7-12800H, instruction set [SSE2|AVX|AVX2]\n",
      "Thread count: 14 physical cores, 20 logical processors, using up to 20 threads\n",
      "\n",
      "Optimize a model with 5 rows, 24 columns and 32 nonzeros\n",
      "Model fingerprint: 0xe2c96882\n",
      "Variable types: 0 continuous, 24 integer (24 binary)\n",
      "Coefficient statistics:\n",
      "  Matrix range     [3e-03, 1e+01]\n",
      "  Objective range  [1e-01, 1e+00]\n",
      "  Bounds range     [1e+00, 1e+00]\n",
      "  RHS range        [1e+00, 1e+01]\n",
      "\n",
      "MIP start from previous solve produced solution with objective 1.96 (0.00s)\n",
      "Loaded MIP start from previous solve with objective 1.96\n",
      "\n",
      "Presolve removed 5 rows and 24 columns\n",
      "Presolve time: 0.00s\n",
      "Presolve: All rows and columns removed\n",
      "\n",
      "Explored 0 nodes (0 simplex iterations) in 0.01 seconds (0.00 work units)\n",
      "Thread count was 1 (of 20 available processors)\n",
      "\n",
      "Solution count 1: 1.96 \n",
      "\n",
      "Optimal solution found (tolerance 1.00e-04)\n",
      "Best objective 1.960000000000e+00, best bound 1.960000000000e+00, gap 0.0000%\n"
     ]
    }
   ],
   "source": [
    "model.optimize()"
   ]
  },
  {
   "cell_type": "code",
   "execution_count": 12,
   "metadata": {},
   "outputs": [
    {
     "name": "stdout",
     "output_type": "stream",
     "text": [
      "Query 1, Position 1 selected.\n",
      "Query 2, Position 2 selected.\n",
      "Query 3, Position 1 selected.\n"
     ]
    }
   ],
   "source": [
    "for i in range(3):\n",
    "    for j in range(4):\n",
    "        if x[i,j].X > 0.5:  # If the decision variable is selected\n",
    "            print(f\"Query {i+1}, Position {j+1} selected.\")"
   ]
  },
  {
   "cell_type": "markdown",
   "metadata": {},
   "source": [
    "#### For \"hotel near McGill\" (Query 1, Position 1):\n",
    "- To secure the first position, the bid must be higher than $13.90.\n",
    "\n",
    "#### For \"McGill hotel\" (Query 2, Position 2):\n",
    "- The bid must be between $8.34 and $17.76.\n",
    "\n",
    "#### For \"Downtown Montreal hotel\" (Query 3, Position 1):\n",
    "- To secure the first position, the bid must be higher than $19.45.\n",
    "\n",
    "### Optimal Expected Click-Through Rate (CTR):\n",
    "\n",
    "$ \\text{Optimal Expected CTR} = (0.08 \\times 8) + (0.05 \\times 20) + (0.08 \\times 4) = 1.96 $\n"
   ]
  },
  {
   "cell_type": "markdown",
   "metadata": {},
   "source": [
    "### 6. Suppose instead that Residence Inn is allowed to vary its bids to have an array of positions per query (They no longer only bid on one position only), but are still subjected to a maximum number of displays per position per query they cannot surpass. Reformulate the Residence Inn Optimization problem"
   ]
  },
  {
   "cell_type": "markdown",
   "metadata": {},
   "source": [
    "- $x_{i,j} \\geq 0$ and integer \n",
    "\n",
    "The objective function remains to maximize the total expected number of clicks, but now considers the variable number of displays for each position:\n",
    "\n",
    "$$ \\text{Maximize} \\quad Z = \\sum_{i} \\sum_{j} (CTR_{j} \\cdot x_{i,j}) $$\n"
   ]
  },
  {
   "cell_type": "markdown",
   "metadata": {},
   "source": [
    "# Q2"
   ]
  },
  {
   "cell_type": "markdown",
   "metadata": {},
   "source": [
    "### Decision Variables:\n",
    "- Let $Q1, Q2, \\ldots, Q8$ represent the number of seats reserved for discounted Q-Class on the 8 routes.\n",
    "- Let $Y1, Y2, \\ldots, Y8$ represent the number of seats reserved for unrestricted Y-Class on the 8 routes.\n",
    "\n",
    "### Objective Function:\n",
    "The objective is to maximize total revenue, which is the sum of revenues from both classes across all 8 routes:\n",
    "\n",
    "$$ \\text{Maximize Revenue} = \\sum_{i=1}^{8} (P_{Qi} \\cdot Q_i + P_{Yi} \\cdot Y_i) $$\n",
    "\n",
    "where $P_{Qi}$ and $P_{Yi}$ are the prices of Q-Class and Y-Class tickets for the $i$th route, respectively.\n",
    "\n",
    "### Constraints:\n",
    "\n",
    "#### Capacity Constraints:\n",
    "Each flight leg has a capacity constraint that the sum of Q-Class and Y-Class seats cannot exceed the total seats available on the aircraft.\n",
    "\n",
    "For example, for the first route on aircraft 1:\n",
    "\n",
    "$$ Q1 + Y1 \\leq 140 $$\n",
    "\n",
    "This constraint would be replicated for each route and aircraft.\n",
    "\n",
    "#### Demand Constraints:\n",
    "The number of seats reserved for each fare class cannot exceed the expected daily demand for that class on that route.\n",
    "\n",
    "For example, for Q-Class on the first route:\n",
    "\n",
    "$$ Q1 \\leq D_{Q1} $$\n",
    "\n",
    "where $D_{Q1}$ is the expected daily demand for Q-Class seats on the first route.\n",
    "\n",
    "#### Non-Negativity Constraints:\n",
    "All decision variables must be greater than or equal to zero, representing the number of seats.\n",
    "\n",
    "$$ Q_i, Y_i \\geq 0 \\quad \\forall i \\in \\{1, 2, \\ldots, 8\\} $$\n",
    "\n",
    "#### Decision Variables Must Be Integers:\n",
    "Since you cannot reserve a fraction of a seat, the decision variables must be integers.\n",
    "\n",
    "$$ Q_i, Y_i \\in \\mathbb{Z} \\quad \\forall i \\in \\{1, 2, \\ldots, 8\\} $$"
   ]
  },
  {
   "cell_type": "code",
   "execution_count": 13,
   "metadata": {},
   "outputs": [],
   "source": [
    "model = gp.Model(\"Spirit_Airways_Revenue_Optimization\")"
   ]
  },
  {
   "cell_type": "code",
   "execution_count": 27,
   "metadata": {},
   "outputs": [],
   "source": [
    "fare_prices_q = Spirit['Q-class fare price'].tolist()\n",
    "fare_prices_y = Spirit['Y-class fare price'].tolist()\n",
    "expected_demand_q = Spirit['Expected demand for Q-class'].tolist()\n",
    "expected_demand_y = Spirit['Expected demand for Y-class'].tolist()\n",
    "\n",
    "aircraft_capacity = 140\n",
    "\n",
    "q_vars = model.addVars(8, name='Q', lb=0, ub=aircraft_capacity, vtype=GRB.CONTINUOUS)\n",
    "\n",
    "y_vars = model.addVars(8, name='Y', lb=0, ub=aircraft_capacity, vtype=GRB.CONTINUOUS)"
   ]
  },
  {
   "cell_type": "code",
   "execution_count": 16,
   "metadata": {},
   "outputs": [],
   "source": [
    "# Objective: Maximize revenue from both classes across all routes\n",
    "model.setObjective(\n",
    "    gp.quicksum(fare_prices_q[i] * q_vars[i] + fare_prices_y[i] * y_vars[i] for i in range(8)),\n",
    "    GRB.MAXIMIZE\n",
    ")\n"
   ]
  },
  {
   "cell_type": "code",
   "execution_count": 17,
   "metadata": {},
   "outputs": [],
   "source": [
    "# Capacity constraints for each route\n",
    "for i in range(8):\n",
    "    model.addConstr(q_vars[i] + y_vars[i] <= aircraft_capacity, f\"Capacity_{i}\")\n",
    "\n",
    "# Demand constraints for Q-Class\n",
    "for i in range(8):\n",
    "    model.addConstr(q_vars[i] <= expected_demand_q[i], f\"Demand_Q_{i}\")\n",
    "\n",
    "# Demand constraints for Y-Class\n",
    "for i in range(8):\n",
    "    model.addConstr(y_vars[i] <= expected_demand_y[i], f\"Demand_Y_{i}\")\n"
   ]
  },
  {
   "cell_type": "code",
   "execution_count": 18,
   "metadata": {},
   "outputs": [
    {
     "name": "stdout",
     "output_type": "stream",
     "text": [
      "Gurobi Optimizer version 11.0.1 build v11.0.1rc0 (win64 - Windows 11.0 (22631.2))\n",
      "\n",
      "CPU model: 12th Gen Intel(R) Core(TM) i7-12800H, instruction set [SSE2|AVX|AVX2]\n",
      "Thread count: 14 physical cores, 20 logical processors, using up to 20 threads\n",
      "\n",
      "Optimize a model with 24 rows, 32 columns and 32 nonzeros\n",
      "Model fingerprint: 0x2faaf8bf\n",
      "Coefficient statistics:\n",
      "  Matrix range     [1e+00, 1e+00]\n",
      "  Objective range  [2e+02, 6e+02]\n",
      "  Bounds range     [1e+02, 1e+02]\n",
      "  RHS range        [1e+01, 1e+02]\n",
      "Presolve removed 24 rows and 32 columns\n",
      "Presolve time: 0.01s\n",
      "Presolve: All rows and columns removed\n",
      "Iteration    Objective       Primal Inf.    Dual Inf.      Time\n",
      "       0    2.0354000e+05   0.000000e+00   0.000000e+00      0s\n",
      "\n",
      "Solved in 0 iterations and 0.01 seconds (0.00 work units)\n",
      "Optimal objective  2.035400000e+05\n"
     ]
    }
   ],
   "source": [
    "# Solve model\n",
    "model.optimize()\n"
   ]
  },
  {
   "cell_type": "code",
   "execution_count": 19,
   "metadata": {},
   "outputs": [
    {
     "name": "stdout",
     "output_type": "stream",
     "text": [
      "Optimal Allocation Decisions for Each Flight and Class:\n",
      "Flight 1, Q-Class: 25.0, Y-Class: 20.0\n",
      "Flight 2, Q-Class: 55.0, Y-Class: 40.0\n",
      "Flight 3, Q-Class: 65.0, Y-Class: 25.0\n",
      "Flight 4, Q-Class: 24.0, Y-Class: 16.0\n",
      "Flight 5, Q-Class: 65.0, Y-Class: 50.0\n",
      "Flight 6, Q-Class: 40.0, Y-Class: 35.0\n",
      "Flight 7, Q-Class: 21.0, Y-Class: 20.0\n",
      "Flight 8, Q-Class: 25.0, Y-Class: 14.0\n",
      "Optimal Revenue for Spirit Airways: $203540.0\n"
     ]
    }
   ],
   "source": [
    "if model.status == GRB.OPTIMAL:\n",
    "    print(\"Optimal Allocation Decisions for Each Flight and Class:\")\n",
    "    for i in range(8):\n",
    "        print(f\"Flight {i+1}, Q-Class: {q_vars[i].X}, Y-Class: {y_vars[i].X}\")\n",
    "    print(f\"Optimal Revenue for Spirit Airways: ${model.ObjVal}\")\n"
   ]
  },
  {
   "cell_type": "markdown",
   "metadata": {},
   "source": [
    "#### For Chicago-San Francisco (Flight 7):\n",
    "- Q-Class Fare Price: $200\n",
    "- Y-Class Fare Price: $230\n",
    "- Total Additional Seats: 50\n",
    "\n",
    "Assuming the demand is high enough to fill these seats with the same proportion of Q-Class and Y-Class passengers as in the optimal allocation, we can estimate the additional revenue for this flight leg. However, since we do not have the specific demand for this leg alone, we will assume that the extra seats could be filled entirely by Q-Class or Y-Class or a mix of both. The best-case scenario would be filling all the additional seats with the higher fare class (Y-Class).\n",
    "\n",
    "#### Potential Additional Annual Revenue:\n",
    "- Q-Class: 50 seats * $200 * 365 days = $3,650,000\n",
    "- Y-Class: 50 seats * $230 * 365 days = $4,197,500\n",
    "\n",
    "### Analysis:\n",
    "- Cost of leasing the jet: $2.5 million per year.\n",
    "- Additional revenue if all Q-Class: $3.65 million per year.\n",
    "- Additional revenue if all Y-Class: $4.1975 million per year."
   ]
  },
  {
   "cell_type": "markdown",
   "metadata": {},
   "source": [
    "#### Request 1:\n",
    "- Revenue from Elon Musk's Y-Class ticket: $420\n",
    "- Revenue from his assistant's Q-Class ticket: $320\n",
    "- Total Revenue for Request 1: $420 + $320 = $740\n",
    "\n",
    "#### Request 2:\n",
    "- Revenue from Layla Abbot's Q-Class ticket: $320\n",
    "\n",
    "\n",
    "Comparing the two requests purely on the basis of immediate revenue, Request 1 generates more revenue ($740) compared to Request 2 ($320). Therefore, if Spirit Airways must choose only one request due to seat availability constraints, they should accept Request 1.\n",
    "\n",
    "Additionally, airlines typically value Y-Class tickets more due to their higher profitability and the potential for additional ancillary revenue. Y-Class passengers are often business travelers who may have a higher lifetime value to the airline, as they may travel more frequently and utilize more premium services. Therefore, the long-term value of fulfilling Request 1 could also be higher for Spirit Airways.\n",
    "\n",
    "However, if the decision were to be based on maximizing utilization of Q-Class seats specifically and if the Y-Class seats are typically in higher demand and likely to be sold to another customer later, then choosing Request 2 could make sense. But without more detailed information on demand forecasts and customer lifetime value, the decision should be based on maximizing immediate revenue, which suggests accepting Request 1. "
   ]
  }
 ],
 "metadata": {
  "kernelspec": {
   "display_name": "Python 3",
   "language": "python",
   "name": "python3"
  },
  "language_info": {
   "codemirror_mode": {
    "name": "ipython",
    "version": 3
   },
   "file_extension": ".py",
   "mimetype": "text/x-python",
   "name": "python",
   "nbconvert_exporter": "python",
   "pygments_lexer": "ipython3",
   "version": "3.11.5"
  }
 },
 "nbformat": 4,
 "nbformat_minor": 4
}
