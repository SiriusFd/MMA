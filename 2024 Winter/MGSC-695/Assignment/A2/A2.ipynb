{
 "cells": [
  {
   "cell_type": "code",
   "execution_count": 117,
   "metadata": {},
   "outputs": [],
   "source": [
    "import gurobipy as gp\n",
    "from gurobipy import GRB\n",
    "import math\n",
    "import numpy as np\n",
    "import pandas as pd"
   ]
  },
  {
   "cell_type": "markdown",
   "metadata": {},
   "source": [
    "# Problem 1"
   ]
  },
  {
   "cell_type": "markdown",
   "metadata": {},
   "source": [
    "### 1. What are APLO's aims in undertaking this project? For this project to be a showcase for the company, what would you recommend (in non-math terms) that they should try to optimize?"
   ]
  },
  {
   "cell_type": "markdown",
   "metadata": {},
   "source": [
    "APLO's primary aim is to establish a strong market presence and reputation in Indonesia's growing economy by providing modern, ecological, and reliable LED street lighting to win more contracts throughout Indonesia’s 34 provinces.\n",
    "\n",
    "\n",
    "They should try to optimize:\n",
    "- **Component Quality and Reliability:** Choose components with the lowest defect rates to ensure longevity and reduce the likelihood of failures during the five-year guarantee period. This will reduce maintenance costs and build trust in APLO's commitment to quality.\n",
    "- **Supplier Compatibility:** Be careful of the compatibility of components from different suppliers to avoid any operational issues post-installation. Components that are known to be incompatible should not be selected together.\n",
    "- **Cost-Effectiveness:** Manage costs carefully to stay within the budget cap per street light. This involves balancing initial costs with potential future savings. For example, a slightly more expensive component that promises lower defect rates might be more cost-effective in the long run."
   ]
  },
  {
   "cell_type": "markdown",
   "metadata": {},
   "source": [
    "### 2. How should we evaluate the total expected cost of a set of components over the five-year guarantee period? Explain any assumptions or approximations that you have made in doing so."
   ]
  },
  {
   "cell_type": "markdown",
   "metadata": {},
   "source": [
    "<span style=\"font-size:1.5em;\"> Expercted Costs </span>\n",
    "- **Initial Cost:** The purchase cost of each component. <br>\n",
    "- **Defect Rate:** The probability that the component will fail within the guarantee period. <br>\n",
    "- **Replacement Cost:** The cost of replacing a component if it fails during the five-year guarantee period. <br>\n",
    "- **UL Certification:** Whether the component is UL Certified, as this might affect the likelihood of failure and eligibility for the project. <br>\n",
    "- **Extra Pre-Assembly Cost:** Additional costs associated with pre-assembly of certain components. <br>\n",
    "\n",
    "<span style=\"font-size:1.5em;\"> Assumptions/Approximations </span>\n",
    "- As it is stated in the case, the failure of one component does not affect the others <br>\n",
    "- The replacement cost is constant over the five-year period (not accounting for inflation, changes in supplier pricing, etc) <br>\n",
    "- The only cost incurred from a component failure is the replacement of the component itself.  <br>\n",
    "- The defect rate remains uniform over the five-year period <br>\n",
    "- THe costs provided from the case are accurate and will not change over time <br>"
   ]
  },
  {
   "cell_type": "markdown",
   "metadata": {},
   "source": [
    "### 3. We will examine two possible ways of approaching this problem. First, write down the model that minimizes total expected cost over the five-year guarantee period, assuming that each component fails at most once over five years. (For incompatibility issues and complementary features, use only those mentioned in the case.)"
   ]
  },
  {
   "cell_type": "markdown",
   "metadata": {},
   "source": [
    "Let $ x_{ij} $ be a binary decision variable that equals 1 if component $ i $ from supplier $ j $ is chosen, and 0 otherwise.\n",
    "\n",
    "Objective Function:\n",
    "- Minimize $ Z = \\sum_{i=1}^{n}\\sum_{j=1}^{m_i} (x_{ij} \\cdot (\\text{Cost}_{ij} + (\\text{Defect Rate}_{ij} \\cdot \\text{Cost}_{ij}) + \\text{Extra Pre-Assembly Cost}_{ij})) $\n",
    "\n",
    "Where:\n",
    "- $ n $ is the total number of components.\n",
    "- $ m_i $ is the number of suppliers for component $ i $.\n",
    "- $ \\text{Cost}_{ij} $ is the initial cost of component $ i $ from supplier $ j $.\n",
    "- $ \\text{Defect Rate}_{ij} $ is the defect rate of component $ i $ from supplier $ j $.\n",
    "- $ \\text{Extra Pre-Assembly Cost}_{ij} $ is the extra pre-assembly cost for component $ i $ from supplier $ j $ (this could be zero if no pre-assembly is required).\n",
    "\n",
    "Constraints:\n",
    "1. Component Selection Constraint: For each component $ i $, exactly one supplier must be chosen. \n",
    "\n",
    "   $ \\sum_{j=1}^{m_i} x_{ij} = 1 $ for all $ i $\n",
    "\n",
    "2. UL Certification Constraint: At least seven of the ten components must be UL certified. \n",
    "\n",
    "   $ \\sum_{i=1}^{n}\\sum_{j=1}^{m_i} (x_{ij} \\cdot \\text{UL Certified}_{ij}) \\geq 7 $\n",
    "\n",
    "3. Incompatibility Constraint: If components from suppliers Sup13 and Sup23 are incompatible, they cannot be selected together. \n",
    "\n",
    "   $ x_{1\\text{Sup13}} + x_{2\\text{Sup23}} \\leq 1 $.\n",
    "\n",
    "4. Complementary Features Constraint: If components from suppliers Sup21 and Sup42 are complementary, they must be selected together. \n",
    "\n",
    "   $ x_{2\\text{Sup21}} = x_{4\\text{Sup42}} $\n",
    "\n",
    "5. Budget Constraint: The total cost must not exceed the budget cap of $5,400 per street light. \n",
    "\n",
    "   $ \\sum_{i=1}^{n}\\sum_{j=1}^{m_i} (x_{ij} \\cdot (\\text{Cost}_{ij} + (\\text{Defect Rate}_{ij} \\cdot \\text{Cost}_{ij}) + \\text{Extra Pre-Assembly Cost}_{ij})) \\leq \\text{Budget Cap} $\n",
    "\n",
    "6. Binary Decision Variables: Ensure $ x_{ij} $ can only take values 0 or 1. \n",
    "\n",
    "   $ x_{ij} \\in \\{0,1\\} $ for all $ i, j $."
   ]
  },
  {
   "cell_type": "markdown",
   "metadata": {},
   "source": [
    "### 4. Implement and solve this model in Jupyter Notebook using Gurobi. What is the cost of Solution 1? What is the probability that no component in Solution 1 fails over the five-year guarantee period? What is the probability that at most one of the components in Solution 1 fails over the five-year guarantee period?"
   ]
  },
  {
   "cell_type": "code",
   "execution_count": 118,
   "metadata": {},
   "outputs": [],
   "source": [
    "m = gp.Model()"
   ]
  },
  {
   "cell_type": "markdown",
   "metadata": {},
   "source": [
    "## 1) Define variables: \n",
    "\n",
    "### Whether we use a given supplier for a component"
   ]
  },
  {
   "cell_type": "markdown",
   "metadata": {},
   "source": [
    "### Or for a more compact way of defining your variables, you can use this code: \n",
    "    "
   ]
  },
  {
   "cell_type": "code",
   "execution_count": 119,
   "metadata": {},
   "outputs": [],
   "source": [
    "# Let's just input how many suppliers we have for each component\n",
    "J = [4,5,4,5,4,4,4,5,5,3]\n",
    "\n",
    "# Create list of indices we need for the variables \n",
    "indices=[]\n",
    "for i in range(10):\n",
    "    for j in range(J[i]): \n",
    "        indices=indices+[(i,j)]\n",
    "        \n",
    "Sup=m.addVars(indices, vtype=GRB.BINARY, name='Sup')\n",
    "# Now you can call each variable by its corrdinates: example Sup[0,2]"
   ]
  },
  {
   "cell_type": "markdown",
   "metadata": {},
   "source": [
    "### We need to input some data. The easiest way to do this is to store it in an array and call the data by index when we need it."
   ]
  },
  {
   "cell_type": "code",
   "execution_count": 120,
   "metadata": {},
   "outputs": [],
   "source": [
    "# read the data \n",
    "ALPO= pd.read_csv(\"APLO Raw Data.csv\")"
   ]
  },
  {
   "cell_type": "code",
   "execution_count": 121,
   "metadata": {},
   "outputs": [
    {
     "data": {
      "text/html": [
       "<div>\n",
       "<style scoped>\n",
       "    .dataframe tbody tr th:only-of-type {\n",
       "        vertical-align: middle;\n",
       "    }\n",
       "\n",
       "    .dataframe tbody tr th {\n",
       "        vertical-align: top;\n",
       "    }\n",
       "\n",
       "    .dataframe thead th {\n",
       "        text-align: right;\n",
       "    }\n",
       "</style>\n",
       "<table border=\"1\" class=\"dataframe\">\n",
       "  <thead>\n",
       "    <tr style=\"text-align: right;\">\n",
       "      <th></th>\n",
       "      <th>Component #</th>\n",
       "      <th>Supplier</th>\n",
       "      <th>Defect Rate</th>\n",
       "      <th>UL Certified</th>\n",
       "      <th>Cost (NT$)</th>\n",
       "      <th>Extra Pre-Assembly Cost (NT$)</th>\n",
       "    </tr>\n",
       "  </thead>\n",
       "  <tbody>\n",
       "    <tr>\n",
       "      <th>0</th>\n",
       "      <td>#1</td>\n",
       "      <td>Sup11</td>\n",
       "      <td>0.037</td>\n",
       "      <td>1</td>\n",
       "      <td>1380.0</td>\n",
       "      <td>0</td>\n",
       "    </tr>\n",
       "    <tr>\n",
       "      <th>1</th>\n",
       "      <td>#1</td>\n",
       "      <td>Sup12</td>\n",
       "      <td>0.017</td>\n",
       "      <td>1</td>\n",
       "      <td>1668.0</td>\n",
       "      <td>0</td>\n",
       "    </tr>\n",
       "    <tr>\n",
       "      <th>2</th>\n",
       "      <td>#1</td>\n",
       "      <td>Sup13</td>\n",
       "      <td>0.015</td>\n",
       "      <td>1</td>\n",
       "      <td>1464.0</td>\n",
       "      <td>0</td>\n",
       "    </tr>\n",
       "    <tr>\n",
       "      <th>3</th>\n",
       "      <td>#1</td>\n",
       "      <td>Sup14</td>\n",
       "      <td>0.018</td>\n",
       "      <td>1</td>\n",
       "      <td>1620.0</td>\n",
       "      <td>0</td>\n",
       "    </tr>\n",
       "    <tr>\n",
       "      <th>4</th>\n",
       "      <td>#2</td>\n",
       "      <td>Sup21</td>\n",
       "      <td>0.043</td>\n",
       "      <td>1</td>\n",
       "      <td>278.4</td>\n",
       "      <td>0</td>\n",
       "    </tr>\n",
       "  </tbody>\n",
       "</table>\n",
       "</div>"
      ],
      "text/plain": [
       "  Component # Supplier  Defect Rate  UL Certified  Cost (NT$)  \\\n",
       "0          #1    Sup11        0.037             1      1380.0   \n",
       "1          #1    Sup12        0.017             1      1668.0   \n",
       "2          #1    Sup13        0.015             1      1464.0   \n",
       "3          #1    Sup14        0.018             1      1620.0   \n",
       "4          #2    Sup21        0.043             1       278.4   \n",
       "\n",
       "   Extra Pre-Assembly Cost (NT$)  \n",
       "0                              0  \n",
       "1                              0  \n",
       "2                              0  \n",
       "3                              0  \n",
       "4                              0  "
      ]
     },
     "execution_count": 121,
     "metadata": {},
     "output_type": "execute_result"
    }
   ],
   "source": [
    "ALPO.head()"
   ]
  },
  {
   "cell_type": "code",
   "execution_count": 122,
   "metadata": {},
   "outputs": [],
   "source": [
    "UL = [[0 for x in range(J[y])] for y in range(10)] \n",
    "Cost = [[0 for x in range(J[y])] for y in range(10)]\n",
    "Defect = [[0 for x in range(J[y])] for y in range(10)]\n",
    "ExtraCost = [[0 for x in range(J[y])] for y in range(10)] \n",
    "\n",
    "indices = [0] + [sum(J[:i+1]) for i in range(len(J))]\n",
    "\n",
    "for i in range(10):\n",
    "    UL[i][0:J[i]] = ALPO['UL Certified'][indices[i]:indices[i+1]].tolist()\n",
    "    Cost[i][0:J[i]] = ALPO['Cost (NT$)'][indices[i]:indices[i+1]].tolist()\n",
    "    Defect[i][0:J[i]] = ALPO['Defect Rate'][indices[i]:indices[i+1]].tolist()\n",
    "    ExtraCost[i][0:J[i]] = ALPO['Extra Pre-Assembly Cost (NT$)'][indices[i]:indices[i+1]].tolist()"
   ]
  },
  {
   "cell_type": "code",
   "execution_count": 123,
   "metadata": {},
   "outputs": [
    {
     "data": {
      "text/plain": [
       "[278.4, 289.2, 252.0, 264.0, 270.0]"
      ]
     },
     "execution_count": 123,
     "metadata": {},
     "output_type": "execute_result"
    }
   ],
   "source": [
    "Cost[1]"
   ]
  },
  {
   "cell_type": "markdown",
   "metadata": {},
   "source": [
    "### Now let's fill in the model! "
   ]
  },
  {
   "cell_type": "code",
   "execution_count": 150,
   "metadata": {},
   "outputs": [
    {
     "data": {
      "text/plain": [
       "<gurobi.Constr *Awaiting Model Update*>"
      ]
     },
     "execution_count": 150,
     "metadata": {},
     "output_type": "execute_result"
    }
   ],
   "source": [
    "#Total budget\n",
    "Budget_Cap = 5400\n",
    "\n",
    "# Define objective function\n",
    "m.setObjective(gp.quicksum(Sup[i, j] * (Cost[i][j] + Cost[i][j] * Defect[i][j] + ExtraCost[i][j]) for i in range(10) for j in range(J[i])),GRB.MINIMIZE)\n",
    "\n",
    "# Incompatibility issues: Sup13 and Sup23 are incompatible\n",
    "m.addConstr(Sup[0, 2] + Sup[1, 2] <= 1)\n",
    "\n",
    "# Complementary features: Sup21 and Sup42 are complementary\n",
    "m.addConstr(Sup[1, 0] - Sup[3, 1] == 0)\n",
    "\n",
    "# UL Certification Constraint: At least seven of the ten components must be UL certified\n",
    "m.addConstr(gp.quicksum(Sup[i, j] * UL[i][j] for i in range(10) for j in range(J[i])) >= 7)\n",
    "\n",
    "# Exactly one supplier must be selected for each component\n",
    "for i in range(10):\n",
    "    m.addConstr(gp.quicksum(Sup[i, j] for j in range(J[i])) == 1)\n",
    "\n",
    "# Budget constraint\n",
    "m.addConstr(sum(Sup[i,j]*(Cost[i][j] + Defect[i][j] * Cost[i][j] + ExtraCost[i][j])for i in range(10) for j in range(J[i])) <= Budget_Cap)\n"
   ]
  },
  {
   "cell_type": "markdown",
   "metadata": {},
   "source": [
    "### Solve the model and get the objective value and any other calculations you need! "
   ]
  },
  {
   "cell_type": "code",
   "execution_count": 151,
   "metadata": {},
   "outputs": [
    {
     "name": "stdout",
     "output_type": "stream",
     "text": [
      "Total Expected Cost is: $5057.478\n",
      "Probability that no component fails: 56.81%\n",
      "Probability that at most one component fails: 90.04%\n"
     ]
    }
   ],
   "source": [
    "m.Params.LogToConsole = 0\n",
    "status = m.optimize()\n",
    "ObjectiveValue=m.objVal\n",
    "\n",
    "# Output and analysis\n",
    "print(f\"Total Expected Cost is: ${ObjectiveValue}\")\n",
    "\n",
    "prob_no_fail = 1\n",
    "for i in range(10):\n",
    "    for j in range(J[i]):\n",
    "        if Sup[i, j].X > 0.5: \n",
    "            prob_no_fail *= (1 - Defect[i][j])\n",
    "print(\"Probability that no component fails: {:.2%}\".format(prob_no_fail))\n",
    "\n",
    "prob_one_fail = 0\n",
    "for i in range(10):\n",
    "    for j in range(J[i]):\n",
    "        if Sup[i, j].X > 0.5:  \n",
    "            prob_fail_i = Defect[i][j] \n",
    "            adjusted_prob_no_fail = prob_no_fail / (1 - Defect[i][j])\n",
    "            prob_one_fail += prob_fail_i * adjusted_prob_no_fail\n",
    "\n",
    "prob_at_most_one_fail = prob_no_fail + prob_one_fail\n",
    "\n",
    "print(\"Probability that at most one component fails: {:.2%}\".format(prob_at_most_one_fail))\n"
   ]
  },
  {
   "cell_type": "markdown",
   "metadata": {},
   "source": [
    "### 5. Write down the non-linear model that maximizes the probability that no components fail over the five- year guarantee period, subject to budget constraints. Why will this be more diffcult to implement?"
   ]
  },
  {
   "cell_type": "markdown",
   "metadata": {},
   "source": [
    "Objective Function:\n",
    "\n",
    "- Maximize $ Z = \\prod_{i=1}^{n} \\prod_{j=1}^{m_i} (1-p_{ij})^{x_{ij}} $\n",
    "\n",
    "where:\n",
    "- $p_{ij}$ is the probability of component $i$ from supplier $j$ not failing,\n",
    "- $x_{ij}$ is a binary decision variable that equals 1 if component $i$ from supplier $j$ is chosen, and 0 otherwise.\n",
    "\n",
    "Constraints remain the same as before:\n",
    "1. Component Selection Constraint: For each component $ i $, exactly one supplier must be chosen. \n",
    "2. UL Certification Constraint: At least seven of the ten components must be UL certified. \n",
    "3. Incompatibility Constraint: If components from suppliers Sup13 and Sup23 are incompatible, they cannot be selected together. \n",
    "4. Complementary Features Constraint: If components from suppliers Sup21 and Sup42 are complementary, they must be selected together. \n",
    "5. Budget Constraint: The total cost must not exceed the budget cap of $5,400 per street light. \n",
    "6. Binary Decision Variables: Ensure $ x_{ij} $ can only take values 0 or 1. \n",
    "\n",
    "<span style=\"font-size:1.5em;\"> Why will this be more diffcult to implement: </span>\n",
    "- Gurobi does not have built in non-linear functions\n",
    "- Many non-linear problems are non-convex. And Non-convex problems can have multiple local optima – points that are better than all other feasible points in their vicinity but are not the best overall solution. Identifying the global optimum is significantly more challenging than in convex problems."
   ]
  },
  {
   "cell_type": "markdown",
   "metadata": {},
   "source": [
    "### 6. To implement this, we approximate the objective function by the sum of probability of failure for all selected components. Implement and solve this model in Jupyter Notebook. We call the resulting output Solution 2. What is the cost of Solution 2?"
   ]
  },
  {
   "cell_type": "code",
   "execution_count": 153,
   "metadata": {},
   "outputs": [],
   "source": [
    "m2 = gp.Model()"
   ]
  },
  {
   "cell_type": "code",
   "execution_count": 154,
   "metadata": {},
   "outputs": [],
   "source": [
    "J = [4,5,4,5,4,4,4,5,5,3]\n",
    "\n",
    "indices=[]\n",
    "for i in range(10):\n",
    "    for j in range(J[i]): \n",
    "        indices=indices+[(i,j)]\n",
    "\n",
    "Sup2=m2.addVars(indices, vtype=GRB.BINARY, name='Sup')"
   ]
  },
  {
   "cell_type": "code",
   "execution_count": 156,
   "metadata": {},
   "outputs": [
    {
     "data": {
      "text/plain": [
       "<gurobi.Constr *Awaiting Model Update*>"
      ]
     },
     "execution_count": 156,
     "metadata": {},
     "output_type": "execute_result"
    }
   ],
   "source": [
    "# Define objective function\n",
    "m2.setObjective(gp.quicksum(Sup2[i,j]*Defect[i][j] for i in range(10) for j in range(J[i])), GRB.MINIMIZE)\n",
    "\n",
    "# Incompatibility issues: Sup13 and Sup23 are incompatible\n",
    "m2.addConstr(Sup2[0, 2] + Sup2[1, 2] <= 1)\n",
    "\n",
    "# Complementary features: Sup21 and Sup42 are complementary\n",
    "m2.addConstr(Sup2[1, 0] - Sup2[3, 1] == 0)\n",
    "\n",
    "# UL Certification Constraint: At least seven of the ten components must be UL certified\n",
    "m2.addConstr(gp.quicksum(Sup2[i, j] * UL[i][j] for i in range(10) for j in range(J[i])) >= 7)\n",
    "\n",
    "# Exactly one supplier must be selected for each component\n",
    "for i in range(10):\n",
    "    m2.addConstr(gp.quicksum(Sup2[i, j] for j in range(J[i])) == 1)\n",
    "\n",
    "# Budget constraint\n",
    "m2.addConstr(gp.quicksum(Sup2[i,j]*(Cost[i][j] + Defect[i][j] * Cost[i][j] + ExtraCost[i][j])for i in range(10) for j in range(J[i])) <= Budget_Cap)"
   ]
  },
  {
   "cell_type": "code",
   "execution_count": 159,
   "metadata": {},
   "outputs": [
    {
     "name": "stdout",
     "output_type": "stream",
     "text": [
      "Total Expected Cost of Solution 2: $5382.823599999999\n",
      "The optimal value of Solution 2 objective function: 0.22699999999999998 \n",
      "\n",
      "Optimal Decisions of Solution 2:\n",
      "Component 1 from Supplier 3 has been selected.\n",
      "Component 2 from Supplier 2 has been selected.\n",
      "Component 3 from Supplier 3 has been selected.\n",
      "Component 4 from Supplier 3 has been selected.\n",
      "Component 5 from Supplier 4 has been selected.\n",
      "Component 6 from Supplier 4 has been selected.\n",
      "Component 7 from Supplier 1 has been selected.\n",
      "Component 8 from Supplier 5 has been selected.\n",
      "Component 9 from Supplier 1 has been selected.\n",
      "Component 10 from Supplier 2 has been selected.\n",
      "\n",
      "Probability that no component fails of Solution 2: 79.38%\n",
      "Probability that at most one component fails of Solution 2: 98.03%\n"
     ]
    }
   ],
   "source": [
    "m2.Params.LogToConsole = 0\n",
    "m2.optimize()\n",
    "ObjectiveValue2=m2.objVal\n",
    "\n",
    "total_cost = sum(Sup2[i, j].X * (Cost[i][j] + Defect[i][j] * Cost[i][j] + ExtraCost[i][j]) for i in range(10) for j in range(J[i]))\n",
    "print(f\"Total Expected Cost of Solution 2: ${total_cost}\")\n",
    "print(f\"The optimal value of Solution 2 objective function: {ObjectiveValue2} \\n\")\n",
    "\n",
    "if m2.status == GRB.OPTIMAL:\n",
    "    print(\"Optimal Decisions of Solution 2:\")\n",
    "    for i in range(10):\n",
    "        for j in range(J[i]):\n",
    "            if Sup2[i, j].X > 0.5: \n",
    "                print(f\"Component {i+1} from Supplier {j+1} has been selected.\")\n",
    "print()\n",
    "\n",
    "prob_no_fail_components = [1 - Defect[i][j-1] for i, j in enumerate([3, 2, 3, 3, 4, 4, 1, 5, 1, 2])]\n",
    "\n",
    "prob_no_fail = 1\n",
    "for prob in prob_no_fail_components:\n",
    "    prob_no_fail *= prob\n",
    "\n",
    "print(f\"Probability that no component fails of Solution 2: {prob_no_fail:.2%}\")\n",
    "\n",
    "prob_one_fail = prob_no_fail  \n",
    "for i, prob in enumerate(prob_no_fail_components):\n",
    "    prob_no_fail_except_current = prob_no_fail / prob\n",
    "    prob_one_fail += (1 - prob) * prob_no_fail_except_current\n",
    "\n",
    "print(f\"Probability that at most one component fails of Solution 2: {prob_one_fail:.2%}\")\n"
   ]
  },
  {
   "cell_type": "markdown",
   "metadata": {},
   "source": [
    "### 7. Which of the two models would you recommend that APLO use, and why?"
   ]
  },
  {
   "cell_type": "markdown",
   "metadata": {},
   "source": [
    "Given the significantly increased probabilities of no component failure and at most one component failing, along with the relatively modest increase in cost, **Model 2** would be recommended for APLO.\n",
    "\n",
    "<span style=\"font-size:1.5em;\"> Reasons: </span>\n",
    "\n",
    "- Model 1 is more cost-effective but offers lower reliability in terms of both the probability of no component failure and the probability that at most one component fails.\n",
    "- **Model 2** while more expensive, significantly improves the reliability of the system.\n",
    "\n",
    "Moreover, higher reliability might lead to lower maintenance costs in the long term, potentially offsetting the higher initial cost of Model 2. Also, customer satisfaction and brand reputation could also be significantly impacted by the reliability of the products from **Model 2**.\n"
   ]
  },
  {
   "cell_type": "markdown",
   "metadata": {},
   "source": [
    "---"
   ]
  },
  {
   "cell_type": "markdown",
   "metadata": {},
   "source": [
    "# Problem 2"
   ]
  },
  {
   "cell_type": "markdown",
   "metadata": {},
   "source": [
    "### 1. Formulate this problem using a linear discrete optimization model."
   ]
  },
  {
   "cell_type": "markdown",
   "metadata": {},
   "source": [
    "Decision Variables:\n",
    "Let $ x_j $ be a binary variable that equals 1 if project $ j $ is selected, and 0 otherwise.\n",
    "\n",
    "Objective Function:\n",
    "\n",
    "$ \\text{Maximize} \\; Z = \\sum_{j=1}^{10} P_j \\cdot x_j $\n",
    "\n",
    "where:\n",
    "\n",
    "- $ P_j $ is the estimated long-run profit for project $ j $\n",
    "\n",
    "Constraints:\n",
    "1. **Capital Constraint**: The total initial capital required for the selected projects cannot exceed $175 million.\n",
    "   \n",
    "   $ \\sum_{j=1}^{10} C_j \\cdot x_j \\leq 175 $\n",
    "\n",
    "   where $ C_j $ is the initial capital required for project $ j $.\n",
    "\n",
    "2. **Project Selection Constraint**: At least 4 projects should be chosen. \n",
    "\n",
    "   $ \\sum_{j=1}^{10} x_j \\geq 4 $\n",
    "\n",
    "3. **Non-negativity/Binary Restriction**: The decision variables are binary, which is inherently non-negative.\n",
    "\n",
    "   $ x_j \\in \\{0, 1\\} \\; \\text{for} \\; j = 1, ..., 10 $\n"
   ]
  },
  {
   "cell_type": "markdown",
   "metadata": {},
   "source": [
    "### 2. In addition, the following constraints have to be met. Please formulate each one independently "
   ]
  },
  {
   "cell_type": "markdown",
   "metadata": {},
   "source": [
    "(a) If they invest in 3 or more projects with an even subscript (i.e. 2 f2; 4; 6; 8; 10g), they need to invest in at least one project with an odd subscript (i.e. 2 f1; 3; 5; 7; 9g).\n",
    "\n",
    "$ \\sum_{j \\in \\{2,4,6,8,10\\}} x_j \\geq 3 \\cdot y $\n",
    "\n",
    "$ \\sum_{j \\in \\{1,3,5,7,9\\}} x_j \\geq y $\n",
    "\n",
    "Where:\n",
    "- $ y \\in \\{0,1\\} $\n",
    "\n",
    "(b) If they choose to invest in all of the projects, it is estimated that they will lose profit on the long run of $50 Millions.\n",
    "\n",
    "New objective function will be:\n",
    "\n",
    "$ \\text{Maximize} \\; Z = \\sum_{j=1}^{10} P_j \\cdot x_j - 50 \\cdot y $\n",
    "\n",
    "With the constraint that:\n",
    "\n",
    "$ \\sum_{j=1}^{10} x_j \\geq 10y $\n",
    "\n",
    "Where:\n",
    "- $ y \\in \\{0,1\\} $\n",
    "\n",
    "(c) If the total initial capital required for the projects exceeds $150 Millions, then the expected long-run profit needs to be at least $300 Millions.\n",
    "\n",
    "$ \\sum_{j=1}^{10} C_j \\cdot x_j \\leq 150 + My $\n",
    "\n",
    "$ \\sum_{j=1}^{10} P_j \\cdot x_j \\geq 300y $\n",
    "\n",
    "Where:\n",
    "- $ y \\in \\{0,1\\} $\n",
    "\n",
    "(d) The total initial capital required for the projects takes discrete values: it needs to be either $100, $125, $150 or $175 millions.\n",
    "\n",
    "Let $ C_{100}, C_{125}, C_{150}, C_{175} $ be binary variables for each capital level.\n",
    "\n",
    "$ \\sum_{j=1}^{10} C_j \\cdot x_j = 100 \\cdot C_{100} + 125 \\cdot C_{125} + 150 \\cdot C_{150} + 175 \\cdot C_{175} $\n",
    "\n",
    "$ C_{100} + C_{125} + C_{150} + C_{175} = 1 $"
   ]
  },
  {
   "cell_type": "markdown",
   "metadata": {},
   "source": [
    "### 3. Assume that you are instead minimizing the initial capital required across chosen projects, with some generic constraints. After you solve the model using an optimization solver, your code shows an optimal solution that suggests to undertake projects 1, 2, 3, 4, and 6. If there is another (different) optimal solution that yields the same objective function value, what constraint would you add to the problem in order to find this alternate solution?"
   ]
  },
  {
   "cell_type": "markdown",
   "metadata": {},
   "source": [
    "I would add additional constraint -\n",
    "\n",
    "$ x_1 + x_2 + x_3 + x_4 + x_5 < 5 $\n",
    "\n",
    "This make sure the solver gives different solution"
   ]
  }
 ],
 "metadata": {
  "kernelspec": {
   "display_name": "Python 3",
   "language": "python",
   "name": "python3"
  },
  "language_info": {
   "codemirror_mode": {
    "name": "ipython",
    "version": 3
   },
   "file_extension": ".py",
   "mimetype": "text/x-python",
   "name": "python",
   "nbconvert_exporter": "python",
   "pygments_lexer": "ipython3",
   "version": "3.11.5"
  }
 },
 "nbformat": 4,
 "nbformat_minor": 4
}
