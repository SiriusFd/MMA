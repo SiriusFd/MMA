{
 "cells": [
  {
   "cell_type": "code",
   "execution_count": 64,
   "metadata": {},
   "outputs": [],
   "source": [
    "# read the final_artist_data.csv\n",
    "\n",
    "import pandas as pd\n",
    "import numpy as np\n",
    "import ast"
   ]
  },
  {
   "cell_type": "code",
   "execution_count": 65,
   "metadata": {},
   "outputs": [],
   "source": [
    "df = pd.read_csv('final_artist_data.csv')"
   ]
  },
  {
   "cell_type": "code",
   "execution_count": 66,
   "metadata": {},
   "outputs": [
    {
     "name": "stdout",
     "output_type": "stream",
     "text": [
      "id                            0\n",
      "artist                        1\n",
      "aggregated_values             0\n",
      "collaborated_artist           0\n",
      "collaborated_artist_id        0\n",
      "spotify_id                    0\n",
      "followers                     0\n",
      "popularity                    0\n",
      "genres                        0\n",
      "chart_hits                14662\n",
      "dtype: int64\n"
     ]
    }
   ],
   "source": [
    "# check the missing data\n",
    "print(df.isnull().sum())\n",
    "\n",
    "# drop the row with null data in artist\n",
    "df = df.dropna(subset=['artist'])"
   ]
  },
  {
   "cell_type": "code",
   "execution_count": 72,
   "metadata": {},
   "outputs": [],
   "source": [
    "columns_to_convert = ['aggregated_values', 'collaborated_artist', 'collaborated_artist_id', 'genres', 'chart_hits']"
   ]
  },
  {
   "cell_type": "code",
   "execution_count": 73,
   "metadata": {},
   "outputs": [],
   "source": [
    "def safe_literal_eval(s):\n",
    "    try:\n",
    "        return ast.literal_eval(s)\n",
    "    except (ValueError, SyntaxError):\n",
    "        # Optionally, you could handle or log the error here\n",
    "        return s  # Return the original string if conversion fails\n",
    "\n",
    "# Apply the conversion to each specified column\n",
    "for col in columns_to_convert:\n",
    "    df[col] = df[col].apply(safe_literal_eval)"
   ]
  },
  {
   "cell_type": "code",
   "execution_count": 75,
   "metadata": {},
   "outputs": [
    {
     "data": {
      "text/html": [
       "<div>\n",
       "<style scoped>\n",
       "    .dataframe tbody tr th:only-of-type {\n",
       "        vertical-align: middle;\n",
       "    }\n",
       "\n",
       "    .dataframe tbody tr th {\n",
       "        vertical-align: top;\n",
       "    }\n",
       "\n",
       "    .dataframe thead th {\n",
       "        text-align: right;\n",
       "    }\n",
       "</style>\n",
       "<table border=\"1\" class=\"dataframe\">\n",
       "  <thead>\n",
       "    <tr style=\"text-align: right;\">\n",
       "      <th></th>\n",
       "      <th>id</th>\n",
       "      <th>artist</th>\n",
       "      <th>aggregated_values</th>\n",
       "      <th>collaborated_artist</th>\n",
       "      <th>collaborated_artist_id</th>\n",
       "      <th>spotify_id</th>\n",
       "      <th>followers</th>\n",
       "      <th>popularity</th>\n",
       "      <th>genres</th>\n",
       "      <th>chart_hits</th>\n",
       "    </tr>\n",
       "  </thead>\n",
       "  <tbody>\n",
       "    <tr>\n",
       "      <th>1</th>\n",
       "      <td>3TVXtAsR1Inumwj472S9r4</td>\n",
       "      <td>Drake</td>\n",
       "      <td>{'before': {'duration_ms': 257753.68852459016,...</td>\n",
       "      <td>{'before': [('Lil Wayne', 24), ('Future', 11),...</td>\n",
       "      <td>{'before': [('55Aa2cqylxrFIXC767Z865', 24), ('...</td>\n",
       "      <td>3TVXtAsR1Inumwj472S9r4</td>\n",
       "      <td>66852536.0</td>\n",
       "      <td>95</td>\n",
       "      <td>[canadian hip hop, canadian pop, hip hop, rap,...</td>\n",
       "      <td>[us (190), gb (163), ar (18), au (148), at (97...</td>\n",
       "    </tr>\n",
       "  </tbody>\n",
       "</table>\n",
       "</div>"
      ],
      "text/plain": [
       "                       id artist  \\\n",
       "1  3TVXtAsR1Inumwj472S9r4  Drake   \n",
       "\n",
       "                                   aggregated_values  \\\n",
       "1  {'before': {'duration_ms': 257753.68852459016,...   \n",
       "\n",
       "                                 collaborated_artist  \\\n",
       "1  {'before': [('Lil Wayne', 24), ('Future', 11),...   \n",
       "\n",
       "                              collaborated_artist_id              spotify_id  \\\n",
       "1  {'before': [('55Aa2cqylxrFIXC767Z865', 24), ('...  3TVXtAsR1Inumwj472S9r4   \n",
       "\n",
       "    followers  popularity                                             genres  \\\n",
       "1  66852536.0          95  [canadian hip hop, canadian pop, hip hop, rap,...   \n",
       "\n",
       "                                          chart_hits  \n",
       "1  [us (190), gb (163), ar (18), au (148), at (97...  "
      ]
     },
     "execution_count": 75,
     "metadata": {},
     "output_type": "execute_result"
    }
   ],
   "source": [
    "# find drake in the artist column\n",
    "drake = df[df['artist'] == 'Drake'][1]"
   ]
  }
 ],
 "metadata": {
  "kernelspec": {
   "display_name": "MMA",
   "language": "python",
   "name": "python3"
  },
  "language_info": {
   "codemirror_mode": {
    "name": "ipython",
    "version": 3
   },
   "file_extension": ".py",
   "mimetype": "text/x-python",
   "name": "python",
   "nbconvert_exporter": "python",
   "pygments_lexer": "ipython3",
   "version": "3.11.5"
  }
 },
 "nbformat": 4,
 "nbformat_minor": 2
}
